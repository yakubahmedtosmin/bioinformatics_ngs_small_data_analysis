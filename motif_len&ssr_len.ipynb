{
 "cells": [
  {
   "cell_type": "code",
   "execution_count": 1,
   "metadata": {},
   "outputs": [],
   "source": [
    "from Bio import SeqIO\n",
    "import numpy as np\n",
    "import pandas as pd"
   ]
  },
  {
   "cell_type": "code",
   "execution_count": 2,
   "metadata": {},
   "outputs": [
    {
     "data": {
      "text/plain": [
       "Index(['Index', 'Seq ID', 'Count', 'Primer type', 'Orientation', 'Start',\n",
       "       'Len', 'tm', 'GC%', 'Any compl', '3' compl', 'Seq', 'Motif',\n",
       "       'Motif Len', 'SSR', 'SSRLen'],\n",
       "      dtype='object')"
      ]
     },
     "execution_count": 2,
     "metadata": {},
     "output_type": "execute_result"
    }
   ],
   "source": [
    "df = pd.read_csv('WGS.xls', delimiter='\\t')\n",
    "df.columns"
   ]
  },
  {
   "cell_type": "code",
   "execution_count": 3,
   "metadata": {},
   "outputs": [],
   "source": [
    "list_of_seq=[]\n",
    "fwd_primer_stop=[]\n",
    "rev_primer_start=[]"
   ]
  },
  {
   "cell_type": "code",
   "execution_count": 4,
   "metadata": {},
   "outputs": [],
   "source": [
    "for i in SeqIO.parse('Genome.fasta', 'fasta'):\n",
    "    for index,j in df[df.Orientation == \"FORWARD\"].iterrows():\n",
    "        if j['Seq ID'] in i.id:\n",
    "            list_of_seq.append(i.seq)\n",
    "            fwd_primer_stop.append((j.Start+j.Len))"
   ]
  },
  {
   "cell_type": "code",
   "execution_count": 5,
   "metadata": {},
   "outputs": [],
   "source": [
    "for i in SeqIO.parse('Genome.fasta', 'fasta'):\n",
    "    for index,j in df[df.Orientation == \"REVERSE\"].iterrows():\n",
    "        if j['Seq ID'] in i.id:\n",
    "            rev_primer_start.append((j.Start-j.Len))"
   ]
  },
  {
   "cell_type": "code",
   "execution_count": 7,
   "metadata": {},
   "outputs": [],
   "source": [
    "rev_primer_start.append(len(list_of_seq[9]))  ### as reverse primer is not present so take the whole seq length for the reverse primer start position"
   ]
  },
  {
   "cell_type": "code",
   "execution_count": 11,
   "metadata": {},
   "outputs": [],
   "source": [
    "lst_of_seq_inside_primer_range=[]\n",
    "for i in range(len(list_of_seq)):\n",
    "    lst_of_seq_inside_primer_range.append((list_of_seq[i][fwd_primer_stop[i]:rev_primer_start[i]]))"
   ]
  },
  {
   "cell_type": "code",
   "execution_count": 12,
   "metadata": {},
   "outputs": [],
   "source": [
    "df['Motif'].fillna(0, inplace=True)\n",
    "motif_len=[]\n",
    "for i in df[df.Motif !=0]['Motif']:\n",
    "    motif_len.append(len(i))"
   ]
  },
  {
   "cell_type": "code",
   "execution_count": 13,
   "metadata": {},
   "outputs": [
    {
     "data": {
      "text/plain": [
       "[Seq('CAGCATCCTTCTTCACACACACACAAAAACCTGTTGCTAACAAAGCCCCTGCAT...AAA'),\n",
       " Seq('GAGCAGTTCTCTGGACTTGGTACAATTCAAGCCATAACCCAAGACACGTTGAAG...GCA'),\n",
       " Seq('GAACCAATTATAGGCTCTGTAGAAAGCTAACTCAAATCTTTCAGAGACCAGTAT...TCT'),\n",
       " Seq('GCCTCATTATATATATATATATATATATATATATATGTATATATATTTTTTTTT...TTC'),\n",
       " Seq('AATTCTTTTGTTCCAAAGTTTGGAGTTTGTGCTTAGATTCTGGATCATGTGTGA...GGT'),\n",
       " Seq('GAACCCCATGGAAAGCAATGGAAAGAAATGCTCCATCTGCTTTGGGAAAGGGAA...ATG'),\n",
       " Seq('TTTAAGCTTAGCTATTACTAAGTGCATCAGTGAAAAAAAATAAAATATATATAT...CCC'),\n",
       " Seq('ATGTGTCTGTTCACACACACACACACACACACACACAAATTATCTGCACCACTT...ACA'),\n",
       " Seq('agtgaactgagaaggaatgaaggaaggaaggaaggaaggaaggaaggaaggaag...gga'),\n",
       " Seq('agtgaactgagaaggaatgaaggaaggaaggaaggaaggaaggaaggaaggaag...agc')]"
      ]
     },
     "execution_count": 13,
     "metadata": {},
     "output_type": "execute_result"
    }
   ],
   "source": [
    "lst_of_seq_inside_primer_range"
   ]
  },
  {
   "cell_type": "code",
   "execution_count": 27,
   "metadata": {},
   "outputs": [],
   "source": [
    "lst_of_seq_inside_primer_range1 = [x.upper() for x in lst_of_seq_inside_primer_range] "
   ]
  },
  {
   "cell_type": "code",
   "execution_count": 14,
   "metadata": {},
   "outputs": [
    {
     "data": {
      "text/plain": [
       "[2, 3, 3, 2, 2, 3, 2, 2, 4, 4]"
      ]
     },
     "execution_count": 14,
     "metadata": {},
     "output_type": "execute_result"
    }
   ],
   "source": [
    "motif_len"
   ]
  },
  {
   "cell_type": "code",
   "execution_count": 28,
   "metadata": {},
   "outputs": [],
   "source": [
    "ssr_len_list = []\n",
    "for i in range(len(lst_of_seq_inside_primer_range1)):\n",
    "    present = True\n",
    "    mo_len = 0\n",
    "    while present:\n",
    "        present = False\n",
    "        mo_len +=1\n",
    "        if df.Motif[i*2]*mo_len in lst_of_seq_inside_primer_range1[i]:\n",
    "            present = True\n",
    "#         print(df.Motif[i])\n",
    "#         print(lst1[i])\n",
    "        else:\n",
    "            ssr_len_list.append(mo_len-1)"
   ]
  },
  {
   "cell_type": "code",
   "execution_count": 29,
   "metadata": {},
   "outputs": [
    {
     "data": {
      "text/plain": [
       "[6, 8, 10, 14, 9, 19, 12, 13, 13, 4]"
      ]
     },
     "execution_count": 29,
     "metadata": {},
     "output_type": "execute_result"
    }
   ],
   "source": [
    "ssr_len_list"
   ]
  },
  {
   "cell_type": "code",
   "execution_count": null,
   "metadata": {},
   "outputs": [],
   "source": []
  }
 ],
 "metadata": {
  "kernelspec": {
   "display_name": "Python 3",
   "language": "python",
   "name": "python3"
  },
  "language_info": {
   "codemirror_mode": {
    "name": "ipython",
    "version": 3
   },
   "file_extension": ".py",
   "mimetype": "text/x-python",
   "name": "python",
   "nbconvert_exporter": "python",
   "pygments_lexer": "ipython3",
   "version": "3.8.3"
  }
 },
 "nbformat": 4,
 "nbformat_minor": 4
}
