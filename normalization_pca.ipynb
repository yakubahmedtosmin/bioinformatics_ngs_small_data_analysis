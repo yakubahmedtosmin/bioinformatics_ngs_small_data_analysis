{
 "cells": [
  {
   "cell_type": "code",
   "execution_count": 1,
   "metadata": {},
   "outputs": [],
   "source": [
    "import numpy as np\n",
    "import pandas as pd"
   ]
  },
  {
   "cell_type": "code",
   "execution_count": 2,
   "metadata": {},
   "outputs": [
    {
     "data": {
      "text/html": [
       "<div>\n",
       "<style scoped>\n",
       "    .dataframe tbody tr th:only-of-type {\n",
       "        vertical-align: middle;\n",
       "    }\n",
       "\n",
       "    .dataframe tbody tr th {\n",
       "        vertical-align: top;\n",
       "    }\n",
       "\n",
       "    .dataframe thead th {\n",
       "        text-align: right;\n",
       "    }\n",
       "</style>\n",
       "<table border=\"1\" class=\"dataframe\">\n",
       "  <thead>\n",
       "    <tr style=\"text-align: right;\">\n",
       "      <th></th>\n",
       "      <th>Geneid</th>\n",
       "      <th>RI-BR1-21</th>\n",
       "      <th>RI-BR2-21</th>\n",
       "      <th>SI-BR1-21</th>\n",
       "      <th>SI-BR2-21</th>\n",
       "    </tr>\n",
       "  </thead>\n",
       "  <tbody>\n",
       "    <tr>\n",
       "      <th>0</th>\n",
       "      <td>gene:Minc3s09726g43483</td>\n",
       "      <td>0.0000</td>\n",
       "      <td>0.0</td>\n",
       "      <td>0.0</td>\n",
       "      <td>0.0000</td>\n",
       "    </tr>\n",
       "    <tr>\n",
       "      <th>1</th>\n",
       "      <td>gene:Minc3s09726g43484</td>\n",
       "      <td>0.0000</td>\n",
       "      <td>0.0</td>\n",
       "      <td>0.0</td>\n",
       "      <td>0.0000</td>\n",
       "    </tr>\n",
       "    <tr>\n",
       "      <th>2</th>\n",
       "      <td>gene:Minc3s09726g43485</td>\n",
       "      <td>0.0000</td>\n",
       "      <td>0.0</td>\n",
       "      <td>0.0</td>\n",
       "      <td>0.0000</td>\n",
       "    </tr>\n",
       "    <tr>\n",
       "      <th>3</th>\n",
       "      <td>gene:Minc3s00760g16979</td>\n",
       "      <td>0.0000</td>\n",
       "      <td>0.0</td>\n",
       "      <td>0.0</td>\n",
       "      <td>0.0000</td>\n",
       "    </tr>\n",
       "    <tr>\n",
       "      <th>4</th>\n",
       "      <td>gene:Minc3s00760g16980</td>\n",
       "      <td>0.0000</td>\n",
       "      <td>0.0</td>\n",
       "      <td>0.0</td>\n",
       "      <td>0.0000</td>\n",
       "    </tr>\n",
       "    <tr>\n",
       "      <th>5</th>\n",
       "      <td>gene:Minc3s00760g16981</td>\n",
       "      <td>0.0000</td>\n",
       "      <td>0.0</td>\n",
       "      <td>0.0</td>\n",
       "      <td>0.0000</td>\n",
       "    </tr>\n",
       "    <tr>\n",
       "      <th>6</th>\n",
       "      <td>gene:Minc3s00760g16982</td>\n",
       "      <td>2.2234</td>\n",
       "      <td>0.0</td>\n",
       "      <td>3.0</td>\n",
       "      <td>2.0000</td>\n",
       "    </tr>\n",
       "    <tr>\n",
       "      <th>7</th>\n",
       "      <td>gene:Minc3s00760g16983</td>\n",
       "      <td>0.0000</td>\n",
       "      <td>0.0</td>\n",
       "      <td>1.0</td>\n",
       "      <td>22.2342</td>\n",
       "    </tr>\n",
       "    <tr>\n",
       "      <th>8</th>\n",
       "      <td>gene:Minc3s00760g16984</td>\n",
       "      <td>0.0000</td>\n",
       "      <td>0.0</td>\n",
       "      <td>0.0</td>\n",
       "      <td>0.0000</td>\n",
       "    </tr>\n",
       "    <tr>\n",
       "      <th>9</th>\n",
       "      <td>gene:Minc3s06092g39313</td>\n",
       "      <td>0.0000</td>\n",
       "      <td>0.0</td>\n",
       "      <td>0.0</td>\n",
       "      <td>0.0000</td>\n",
       "    </tr>\n",
       "    <tr>\n",
       "      <th>10</th>\n",
       "      <td>gene:Minc3s04522g36466</td>\n",
       "      <td>0.0000</td>\n",
       "      <td>0.0</td>\n",
       "      <td>0.0</td>\n",
       "      <td>0.0000</td>\n",
       "    </tr>\n",
       "    <tr>\n",
       "      <th>11</th>\n",
       "      <td>gene:Minc3s04522g36467</td>\n",
       "      <td>0.0000</td>\n",
       "      <td>0.0</td>\n",
       "      <td>0.0</td>\n",
       "      <td>0.0000</td>\n",
       "    </tr>\n",
       "    <tr>\n",
       "      <th>12</th>\n",
       "      <td>gene:Minc3s00301g09715</td>\n",
       "      <td>0.0000</td>\n",
       "      <td>0.0</td>\n",
       "      <td>0.0</td>\n",
       "      <td>0.0000</td>\n",
       "    </tr>\n",
       "    <tr>\n",
       "      <th>13</th>\n",
       "      <td>gene:Minc3s00301g09716</td>\n",
       "      <td>0.0000</td>\n",
       "      <td>0.0</td>\n",
       "      <td>0.0</td>\n",
       "      <td>0.0000</td>\n",
       "    </tr>\n",
       "    <tr>\n",
       "      <th>14</th>\n",
       "      <td>gene:Minc3s00301g09717</td>\n",
       "      <td>0.0000</td>\n",
       "      <td>0.0</td>\n",
       "      <td>0.0</td>\n",
       "      <td>5.0000</td>\n",
       "    </tr>\n",
       "    <tr>\n",
       "      <th>15</th>\n",
       "      <td>gene:Minc3s00301g09718</td>\n",
       "      <td>0.0000</td>\n",
       "      <td>3.0</td>\n",
       "      <td>3.0</td>\n",
       "      <td>13.0000</td>\n",
       "    </tr>\n",
       "    <tr>\n",
       "      <th>16</th>\n",
       "      <td>gene:Minc3s00301g09719</td>\n",
       "      <td>0.0000</td>\n",
       "      <td>1.0</td>\n",
       "      <td>0.0</td>\n",
       "      <td>0.0000</td>\n",
       "    </tr>\n",
       "    <tr>\n",
       "      <th>17</th>\n",
       "      <td>gene:Minc3s00301g09720</td>\n",
       "      <td>0.0000</td>\n",
       "      <td>0.0</td>\n",
       "      <td>0.0</td>\n",
       "      <td>0.0000</td>\n",
       "    </tr>\n",
       "    <tr>\n",
       "      <th>18</th>\n",
       "      <td>gene:Minc3s00301g09721</td>\n",
       "      <td>0.0000</td>\n",
       "      <td>0.0</td>\n",
       "      <td>0.0</td>\n",
       "      <td>4.0000</td>\n",
       "    </tr>\n",
       "    <tr>\n",
       "      <th>19</th>\n",
       "      <td>gene:Minc3s00301g09722</td>\n",
       "      <td>0.0000</td>\n",
       "      <td>0.0</td>\n",
       "      <td>0.0</td>\n",
       "      <td>0.0000</td>\n",
       "    </tr>\n",
       "  </tbody>\n",
       "</table>\n",
       "</div>"
      ],
      "text/plain": [
       "                    Geneid  RI-BR1-21  RI-BR2-21  SI-BR1-21  SI-BR2-21\n",
       "0   gene:Minc3s09726g43483     0.0000        0.0        0.0     0.0000\n",
       "1   gene:Minc3s09726g43484     0.0000        0.0        0.0     0.0000\n",
       "2   gene:Minc3s09726g43485     0.0000        0.0        0.0     0.0000\n",
       "3   gene:Minc3s00760g16979     0.0000        0.0        0.0     0.0000\n",
       "4   gene:Minc3s00760g16980     0.0000        0.0        0.0     0.0000\n",
       "5   gene:Minc3s00760g16981     0.0000        0.0        0.0     0.0000\n",
       "6   gene:Minc3s00760g16982     2.2234        0.0        3.0     2.0000\n",
       "7   gene:Minc3s00760g16983     0.0000        0.0        1.0    22.2342\n",
       "8   gene:Minc3s00760g16984     0.0000        0.0        0.0     0.0000\n",
       "9   gene:Minc3s06092g39313     0.0000        0.0        0.0     0.0000\n",
       "10  gene:Minc3s04522g36466     0.0000        0.0        0.0     0.0000\n",
       "11  gene:Minc3s04522g36467     0.0000        0.0        0.0     0.0000\n",
       "12  gene:Minc3s00301g09715     0.0000        0.0        0.0     0.0000\n",
       "13  gene:Minc3s00301g09716     0.0000        0.0        0.0     0.0000\n",
       "14  gene:Minc3s00301g09717     0.0000        0.0        0.0     5.0000\n",
       "15  gene:Minc3s00301g09718     0.0000        3.0        3.0    13.0000\n",
       "16  gene:Minc3s00301g09719     0.0000        1.0        0.0     0.0000\n",
       "17  gene:Minc3s00301g09720     0.0000        0.0        0.0     0.0000\n",
       "18  gene:Minc3s00301g09721     0.0000        0.0        0.0     4.0000\n",
       "19  gene:Minc3s00301g09722     0.0000        0.0        0.0     0.0000"
      ]
     },
     "execution_count": 2,
     "metadata": {},
     "output_type": "execute_result"
    }
   ],
   "source": [
    "demomat = pd.read_csv(\"Demomatrix.xls\", delimiter='\\t')\n",
    "demomat.head(20)"
   ]
  },
  {
   "cell_type": "code",
   "execution_count": 3,
   "metadata": {},
   "outputs": [
    {
     "name": "stdout",
     "output_type": "stream",
     "text": [
      "(9999, 5)\n",
      "<class 'pandas.core.frame.DataFrame'>\n",
      "RangeIndex: 9999 entries, 0 to 9998\n",
      "Data columns (total 5 columns):\n",
      " #   Column     Non-Null Count  Dtype  \n",
      "---  ------     --------------  -----  \n",
      " 0   Geneid     9999 non-null   object \n",
      " 1   RI-BR1-21  9999 non-null   float64\n",
      " 2   RI-BR2-21  9999 non-null   float64\n",
      " 3   SI-BR1-21  9999 non-null   float64\n",
      " 4   SI-BR2-21  9999 non-null   float64\n",
      "dtypes: float64(4), object(1)\n",
      "memory usage: 390.7+ KB\n",
      "None\n"
     ]
    }
   ],
   "source": [
    "print(demomat.shape)\n",
    "print(demomat.info())"
   ]
  },
  {
   "cell_type": "code",
   "execution_count": 4,
   "metadata": {},
   "outputs": [],
   "source": [
    "## Q1: NORMALIZATION(min_max normalization)"
   ]
  },
  {
   "cell_type": "code",
   "execution_count": 5,
   "metadata": {},
   "outputs": [],
   "source": [
    "def  min_max(df):\n",
    "    for i in df.columns[1:]:\n",
    "        x= df[i]\n",
    "        df[i] = ((x - x.min())/(x.max() - x.min()))"
   ]
  },
  {
   "cell_type": "code",
   "execution_count": 6,
   "metadata": {},
   "outputs": [],
   "source": [
    "min_max(demomat)"
   ]
  },
  {
   "cell_type": "code",
   "execution_count": 7,
   "metadata": {},
   "outputs": [
    {
     "data": {
      "text/html": [
       "<div>\n",
       "<style scoped>\n",
       "    .dataframe tbody tr th:only-of-type {\n",
       "        vertical-align: middle;\n",
       "    }\n",
       "\n",
       "    .dataframe tbody tr th {\n",
       "        vertical-align: top;\n",
       "    }\n",
       "\n",
       "    .dataframe thead th {\n",
       "        text-align: right;\n",
       "    }\n",
       "</style>\n",
       "<table border=\"1\" class=\"dataframe\">\n",
       "  <thead>\n",
       "    <tr style=\"text-align: right;\">\n",
       "      <th></th>\n",
       "      <th>Geneid</th>\n",
       "      <th>RI-BR1-21</th>\n",
       "      <th>RI-BR2-21</th>\n",
       "      <th>SI-BR1-21</th>\n",
       "      <th>SI-BR2-21</th>\n",
       "    </tr>\n",
       "  </thead>\n",
       "  <tbody>\n",
       "    <tr>\n",
       "      <th>0</th>\n",
       "      <td>gene:Minc3s09726g43483</td>\n",
       "      <td>0.000000</td>\n",
       "      <td>0.0</td>\n",
       "      <td>0.000000</td>\n",
       "      <td>0.000000</td>\n",
       "    </tr>\n",
       "    <tr>\n",
       "      <th>1</th>\n",
       "      <td>gene:Minc3s09726g43484</td>\n",
       "      <td>0.000000</td>\n",
       "      <td>0.0</td>\n",
       "      <td>0.000000</td>\n",
       "      <td>0.000000</td>\n",
       "    </tr>\n",
       "    <tr>\n",
       "      <th>2</th>\n",
       "      <td>gene:Minc3s09726g43485</td>\n",
       "      <td>0.000000</td>\n",
       "      <td>0.0</td>\n",
       "      <td>0.000000</td>\n",
       "      <td>0.000000</td>\n",
       "    </tr>\n",
       "    <tr>\n",
       "      <th>3</th>\n",
       "      <td>gene:Minc3s00760g16979</td>\n",
       "      <td>0.000000</td>\n",
       "      <td>0.0</td>\n",
       "      <td>0.000000</td>\n",
       "      <td>0.000000</td>\n",
       "    </tr>\n",
       "    <tr>\n",
       "      <th>4</th>\n",
       "      <td>gene:Minc3s00760g16980</td>\n",
       "      <td>0.000000</td>\n",
       "      <td>0.0</td>\n",
       "      <td>0.000000</td>\n",
       "      <td>0.000000</td>\n",
       "    </tr>\n",
       "    <tr>\n",
       "      <th>5</th>\n",
       "      <td>gene:Minc3s00760g16981</td>\n",
       "      <td>0.000000</td>\n",
       "      <td>0.0</td>\n",
       "      <td>0.000000</td>\n",
       "      <td>0.000000</td>\n",
       "    </tr>\n",
       "    <tr>\n",
       "      <th>6</th>\n",
       "      <td>gene:Minc3s00760g16982</td>\n",
       "      <td>0.138962</td>\n",
       "      <td>0.0</td>\n",
       "      <td>0.040000</td>\n",
       "      <td>0.003774</td>\n",
       "    </tr>\n",
       "    <tr>\n",
       "      <th>7</th>\n",
       "      <td>gene:Minc3s00760g16983</td>\n",
       "      <td>0.000000</td>\n",
       "      <td>0.0</td>\n",
       "      <td>0.013333</td>\n",
       "      <td>0.041951</td>\n",
       "    </tr>\n",
       "    <tr>\n",
       "      <th>8</th>\n",
       "      <td>gene:Minc3s00760g16984</td>\n",
       "      <td>0.000000</td>\n",
       "      <td>0.0</td>\n",
       "      <td>0.000000</td>\n",
       "      <td>0.000000</td>\n",
       "    </tr>\n",
       "    <tr>\n",
       "      <th>9</th>\n",
       "      <td>gene:Minc3s06092g39313</td>\n",
       "      <td>0.000000</td>\n",
       "      <td>0.0</td>\n",
       "      <td>0.000000</td>\n",
       "      <td>0.000000</td>\n",
       "    </tr>\n",
       "    <tr>\n",
       "      <th>10</th>\n",
       "      <td>gene:Minc3s04522g36466</td>\n",
       "      <td>0.000000</td>\n",
       "      <td>0.0</td>\n",
       "      <td>0.000000</td>\n",
       "      <td>0.000000</td>\n",
       "    </tr>\n",
       "    <tr>\n",
       "      <th>11</th>\n",
       "      <td>gene:Minc3s04522g36467</td>\n",
       "      <td>0.000000</td>\n",
       "      <td>0.0</td>\n",
       "      <td>0.000000</td>\n",
       "      <td>0.000000</td>\n",
       "    </tr>\n",
       "    <tr>\n",
       "      <th>12</th>\n",
       "      <td>gene:Minc3s00301g09715</td>\n",
       "      <td>0.000000</td>\n",
       "      <td>0.0</td>\n",
       "      <td>0.000000</td>\n",
       "      <td>0.000000</td>\n",
       "    </tr>\n",
       "    <tr>\n",
       "      <th>13</th>\n",
       "      <td>gene:Minc3s00301g09716</td>\n",
       "      <td>0.000000</td>\n",
       "      <td>0.0</td>\n",
       "      <td>0.000000</td>\n",
       "      <td>0.000000</td>\n",
       "    </tr>\n",
       "    <tr>\n",
       "      <th>14</th>\n",
       "      <td>gene:Minc3s00301g09717</td>\n",
       "      <td>0.000000</td>\n",
       "      <td>0.0</td>\n",
       "      <td>0.000000</td>\n",
       "      <td>0.009434</td>\n",
       "    </tr>\n",
       "  </tbody>\n",
       "</table>\n",
       "</div>"
      ],
      "text/plain": [
       "                    Geneid  RI-BR1-21  RI-BR2-21  SI-BR1-21  SI-BR2-21\n",
       "0   gene:Minc3s09726g43483   0.000000        0.0   0.000000   0.000000\n",
       "1   gene:Minc3s09726g43484   0.000000        0.0   0.000000   0.000000\n",
       "2   gene:Minc3s09726g43485   0.000000        0.0   0.000000   0.000000\n",
       "3   gene:Minc3s00760g16979   0.000000        0.0   0.000000   0.000000\n",
       "4   gene:Minc3s00760g16980   0.000000        0.0   0.000000   0.000000\n",
       "5   gene:Minc3s00760g16981   0.000000        0.0   0.000000   0.000000\n",
       "6   gene:Minc3s00760g16982   0.138962        0.0   0.040000   0.003774\n",
       "7   gene:Minc3s00760g16983   0.000000        0.0   0.013333   0.041951\n",
       "8   gene:Minc3s00760g16984   0.000000        0.0   0.000000   0.000000\n",
       "9   gene:Minc3s06092g39313   0.000000        0.0   0.000000   0.000000\n",
       "10  gene:Minc3s04522g36466   0.000000        0.0   0.000000   0.000000\n",
       "11  gene:Minc3s04522g36467   0.000000        0.0   0.000000   0.000000\n",
       "12  gene:Minc3s00301g09715   0.000000        0.0   0.000000   0.000000\n",
       "13  gene:Minc3s00301g09716   0.000000        0.0   0.000000   0.000000\n",
       "14  gene:Minc3s00301g09717   0.000000        0.0   0.000000   0.009434"
      ]
     },
     "execution_count": 7,
     "metadata": {},
     "output_type": "execute_result"
    }
   ],
   "source": [
    "demomat.head(15)"
   ]
  },
  {
   "cell_type": "code",
   "execution_count": 8,
   "metadata": {},
   "outputs": [],
   "source": [
    "demomat.to_csv(\"normalised.csv\")"
   ]
  },
  {
   "cell_type": "code",
   "execution_count": 9,
   "metadata": {},
   "outputs": [],
   "source": [
    "## Q1:PCA CALCULATION"
   ]
  },
  {
   "cell_type": "code",
   "execution_count": 10,
   "metadata": {},
   "outputs": [
    {
     "data": {
      "text/plain": [
       "array([[0.        , 0.        , 0.        , 0.        ],\n",
       "       [0.        , 0.        , 0.        , 0.        ],\n",
       "       [0.        , 0.        , 0.        , 0.        ],\n",
       "       [0.        , 0.        , 0.        , 0.        ],\n",
       "       [0.        , 0.        , 0.        , 0.        ],\n",
       "       [0.        , 0.        , 0.        , 0.        ],\n",
       "       [0.1389625 , 0.        , 0.04      , 0.00377358],\n",
       "       [0.        , 0.        , 0.01333333, 0.04195132],\n",
       "       [0.        , 0.        , 0.        , 0.        ],\n",
       "       [0.        , 0.        , 0.        , 0.        ],\n",
       "       [0.        , 0.        , 0.        , 0.        ],\n",
       "       [0.        , 0.        , 0.        , 0.        ],\n",
       "       [0.        , 0.        , 0.        , 0.        ],\n",
       "       [0.        , 0.        , 0.        , 0.        ],\n",
       "       [0.        , 0.        , 0.        , 0.00943396],\n",
       "       [0.        , 0.07142857, 0.04      , 0.0245283 ],\n",
       "       [0.        , 0.02380952, 0.        , 0.        ],\n",
       "       [0.        , 0.        , 0.        , 0.        ],\n",
       "       [0.        , 0.        , 0.        , 0.00754717],\n",
       "       [0.        , 0.        , 0.        , 0.        ]])"
      ]
     },
     "execution_count": 10,
     "metadata": {},
     "output_type": "execute_result"
    }
   ],
   "source": [
    "df = demomat[['RI-BR1-21','RI-BR2-21','SI-BR1-21','SI-BR2-21']]\n",
    "df = df.to_numpy()\n",
    "df[:20]"
   ]
  },
  {
   "cell_type": "code",
   "execution_count": 11,
   "metadata": {},
   "outputs": [
    {
     "data": {
      "text/plain": [
       "array([[0.00055496, 0.00028846, 0.00024808, 0.00018928],\n",
       "       [0.00028846, 0.0011747 , 0.00035295, 0.00032456],\n",
       "       [0.00024808, 0.00035295, 0.00059116, 0.00038875],\n",
       "       [0.00018928, 0.00032456, 0.00038875, 0.00047558]])"
      ]
     },
     "execution_count": 11,
     "metadata": {},
     "output_type": "execute_result"
    }
   ],
   "source": [
    "# compute covarience matrix\n",
    "features = df.T\n",
    "co_matrix = np.cov(features)\n",
    "co_matrix[:20]"
   ]
  },
  {
   "cell_type": "code",
   "execution_count": 12,
   "metadata": {},
   "outputs": [
    {
     "data": {
      "text/plain": [
       "array([[ 0.34462773,  0.32087823,  0.87911712,  0.07363408],\n",
       "       [ 0.72932979, -0.68263582, -0.0342113 , -0.03026521],\n",
       "       [ 0.44560432,  0.52081929, -0.30958202, -0.65904707],\n",
       "       [ 0.38826097,  0.39974087, -0.3607515 ,  0.74787633]])"
      ]
     },
     "execution_count": 12,
     "metadata": {},
     "output_type": "execute_result"
    }
   ],
   "source": [
    "#compute eiganvalue and eiganvectors\n",
    "\n",
    "values, vectors = np.linalg.eig(co_matrix)\n",
    "vectors[:20]"
   ]
  },
  {
   "cell_type": "code",
   "execution_count": 13,
   "metadata": {},
   "outputs": [],
   "source": [
    "# Individual Principal Components\n",
    "\n",
    "pca1 = df.dot(vectors.T[0])"
   ]
  },
  {
   "cell_type": "code",
   "execution_count": 14,
   "metadata": {},
   "outputs": [
    {
     "name": "stdout",
     "output_type": "stream",
     "text": [
      "[ 0.32087823 -0.68263582  0.52081929  0.39974087]\n"
     ]
    }
   ],
   "source": [
    "print(vectors.T[1])"
   ]
  },
  {
   "cell_type": "code",
   "execution_count": 15,
   "metadata": {},
   "outputs": [
    {
     "name": "stdout",
     "output_type": "stream",
     "text": [
      "varience for all eiganvectors:  1.0\n",
      "total  varience by PCA1: 0.6077195371893971\n",
      "total  varience by PCA2: 0.2073246308368439\n",
      "total  varience by PCA3: 0.13542527802664642\n",
      "total  varience by PCA4: 0.049530553947112615\n"
     ]
    }
   ],
   "source": [
    "# Checkng for variation captured by each of the principal components\n",
    "# values are eigenvalues\n",
    "explained_varience = []\n",
    "for i in range(len(values)):\n",
    "    explained_varience.append(values[i]/ np.sum(values))\n",
    "print(\"varience for all eiganvectors: \", np.sum(explained_varience))\n",
    "\n",
    "for i in range(len(values)):\n",
    "    print(\"total  varience by PCA\"+str(i+1)+\":\", explained_varience[i])"
   ]
  },
  {
   "cell_type": "code",
   "execution_count": 16,
   "metadata": {},
   "outputs": [
    {
     "data": {
      "text/html": [
       "<div>\n",
       "<style scoped>\n",
       "    .dataframe tbody tr th:only-of-type {\n",
       "        vertical-align: middle;\n",
       "    }\n",
       "\n",
       "    .dataframe tbody tr th {\n",
       "        vertical-align: top;\n",
       "    }\n",
       "\n",
       "    .dataframe thead th {\n",
       "        text-align: right;\n",
       "    }\n",
       "</style>\n",
       "<table border=\"1\" class=\"dataframe\">\n",
       "  <thead>\n",
       "    <tr style=\"text-align: right;\">\n",
       "      <th></th>\n",
       "      <th>PCA1</th>\n",
       "      <th>PCA2</th>\n",
       "      <th>PCA3</th>\n",
       "      <th>geneid</th>\n",
       "    </tr>\n",
       "  </thead>\n",
       "  <tbody>\n",
       "    <tr>\n",
       "      <th>0</th>\n",
       "      <td>0.000000</td>\n",
       "      <td>0.000000</td>\n",
       "      <td>0.000000</td>\n",
       "      <td>gene:Minc3s09726g43483</td>\n",
       "    </tr>\n",
       "    <tr>\n",
       "      <th>1</th>\n",
       "      <td>0.000000</td>\n",
       "      <td>0.000000</td>\n",
       "      <td>0.000000</td>\n",
       "      <td>gene:Minc3s09726g43484</td>\n",
       "    </tr>\n",
       "    <tr>\n",
       "      <th>2</th>\n",
       "      <td>0.000000</td>\n",
       "      <td>0.000000</td>\n",
       "      <td>0.000000</td>\n",
       "      <td>gene:Minc3s09726g43485</td>\n",
       "    </tr>\n",
       "    <tr>\n",
       "      <th>3</th>\n",
       "      <td>0.000000</td>\n",
       "      <td>0.000000</td>\n",
       "      <td>0.000000</td>\n",
       "      <td>gene:Minc3s00760g16979</td>\n",
       "    </tr>\n",
       "    <tr>\n",
       "      <th>4</th>\n",
       "      <td>0.000000</td>\n",
       "      <td>0.000000</td>\n",
       "      <td>0.000000</td>\n",
       "      <td>gene:Minc3s00760g16980</td>\n",
       "    </tr>\n",
       "    <tr>\n",
       "      <th>5</th>\n",
       "      <td>0.000000</td>\n",
       "      <td>0.000000</td>\n",
       "      <td>0.000000</td>\n",
       "      <td>gene:Minc3s00760g16981</td>\n",
       "    </tr>\n",
       "    <tr>\n",
       "      <th>6</th>\n",
       "      <td>0.067180</td>\n",
       "      <td>0.066931</td>\n",
       "      <td>-0.013307</td>\n",
       "      <td>gene:Minc3s00760g16982</td>\n",
       "    </tr>\n",
       "    <tr>\n",
       "      <th>7</th>\n",
       "      <td>0.022229</td>\n",
       "      <td>0.023714</td>\n",
       "      <td>0.022587</td>\n",
       "      <td>gene:Minc3s00760g16983</td>\n",
       "    </tr>\n",
       "    <tr>\n",
       "      <th>8</th>\n",
       "      <td>0.000000</td>\n",
       "      <td>0.000000</td>\n",
       "      <td>0.000000</td>\n",
       "      <td>gene:Minc3s00760g16984</td>\n",
       "    </tr>\n",
       "    <tr>\n",
       "      <th>9</th>\n",
       "      <td>0.000000</td>\n",
       "      <td>0.000000</td>\n",
       "      <td>0.000000</td>\n",
       "      <td>gene:Minc3s06092g39313</td>\n",
       "    </tr>\n",
       "    <tr>\n",
       "      <th>10</th>\n",
       "      <td>0.000000</td>\n",
       "      <td>0.000000</td>\n",
       "      <td>0.000000</td>\n",
       "      <td>gene:Minc3s04522g36466</td>\n",
       "    </tr>\n",
       "    <tr>\n",
       "      <th>11</th>\n",
       "      <td>0.000000</td>\n",
       "      <td>0.000000</td>\n",
       "      <td>0.000000</td>\n",
       "      <td>gene:Minc3s04522g36467</td>\n",
       "    </tr>\n",
       "    <tr>\n",
       "      <th>12</th>\n",
       "      <td>0.000000</td>\n",
       "      <td>0.000000</td>\n",
       "      <td>0.000000</td>\n",
       "      <td>gene:Minc3s00301g09715</td>\n",
       "    </tr>\n",
       "    <tr>\n",
       "      <th>13</th>\n",
       "      <td>0.000000</td>\n",
       "      <td>0.000000</td>\n",
       "      <td>0.000000</td>\n",
       "      <td>gene:Minc3s00301g09716</td>\n",
       "    </tr>\n",
       "    <tr>\n",
       "      <th>14</th>\n",
       "      <td>0.003663</td>\n",
       "      <td>0.003771</td>\n",
       "      <td>0.007055</td>\n",
       "      <td>gene:Minc3s00301g09717</td>\n",
       "    </tr>\n",
       "    <tr>\n",
       "      <th>15</th>\n",
       "      <td>0.079443</td>\n",
       "      <td>-0.018122</td>\n",
       "      <td>-0.010180</td>\n",
       "      <td>gene:Minc3s00301g09718</td>\n",
       "    </tr>\n",
       "    <tr>\n",
       "      <th>16</th>\n",
       "      <td>0.017365</td>\n",
       "      <td>-0.016253</td>\n",
       "      <td>-0.000721</td>\n",
       "      <td>gene:Minc3s00301g09719</td>\n",
       "    </tr>\n",
       "    <tr>\n",
       "      <th>17</th>\n",
       "      <td>0.000000</td>\n",
       "      <td>0.000000</td>\n",
       "      <td>0.000000</td>\n",
       "      <td>gene:Minc3s00301g09720</td>\n",
       "    </tr>\n",
       "    <tr>\n",
       "      <th>18</th>\n",
       "      <td>0.002930</td>\n",
       "      <td>0.003017</td>\n",
       "      <td>0.005644</td>\n",
       "      <td>gene:Minc3s00301g09721</td>\n",
       "    </tr>\n",
       "    <tr>\n",
       "      <th>19</th>\n",
       "      <td>0.000000</td>\n",
       "      <td>0.000000</td>\n",
       "      <td>0.000000</td>\n",
       "      <td>gene:Minc3s00301g09722</td>\n",
       "    </tr>\n",
       "  </tbody>\n",
       "</table>\n",
       "</div>"
      ],
      "text/plain": [
       "        PCA1      PCA2      PCA3                  geneid\n",
       "0   0.000000  0.000000  0.000000  gene:Minc3s09726g43483\n",
       "1   0.000000  0.000000  0.000000  gene:Minc3s09726g43484\n",
       "2   0.000000  0.000000  0.000000  gene:Minc3s09726g43485\n",
       "3   0.000000  0.000000  0.000000  gene:Minc3s00760g16979\n",
       "4   0.000000  0.000000  0.000000  gene:Minc3s00760g16980\n",
       "5   0.000000  0.000000  0.000000  gene:Minc3s00760g16981\n",
       "6   0.067180  0.066931 -0.013307  gene:Minc3s00760g16982\n",
       "7   0.022229  0.023714  0.022587  gene:Minc3s00760g16983\n",
       "8   0.000000  0.000000  0.000000  gene:Minc3s00760g16984\n",
       "9   0.000000  0.000000  0.000000  gene:Minc3s06092g39313\n",
       "10  0.000000  0.000000  0.000000  gene:Minc3s04522g36466\n",
       "11  0.000000  0.000000  0.000000  gene:Minc3s04522g36467\n",
       "12  0.000000  0.000000  0.000000  gene:Minc3s00301g09715\n",
       "13  0.000000  0.000000  0.000000  gene:Minc3s00301g09716\n",
       "14  0.003663  0.003771  0.007055  gene:Minc3s00301g09717\n",
       "15  0.079443 -0.018122 -0.010180  gene:Minc3s00301g09718\n",
       "16  0.017365 -0.016253 -0.000721  gene:Minc3s00301g09719\n",
       "17  0.000000  0.000000  0.000000  gene:Minc3s00301g09720\n",
       "18  0.002930  0.003017  0.005644  gene:Minc3s00301g09721\n",
       "19  0.000000  0.000000  0.000000  gene:Minc3s00301g09722"
      ]
     },
     "execution_count": 16,
     "metadata": {},
     "output_type": "execute_result"
    }
   ],
   "source": [
    "project_1 = df.dot(vectors.T[0])\n",
    "project_2 = df.dot(vectors.T[1])\n",
    "project_3 = df.dot(vectors.T[3])   ### only 2 component is taken as we can \n",
    "y = demomat['Geneid']              ### the explained varience for PCA4 is low\n",
    "res = pd.DataFrame(project_1, columns=['PCA1'])\n",
    "res['PCA2'] = project_2\n",
    "res['PCA3'] = project_3\n",
    "res['geneid'] = y\n",
    "res.head(20)"
   ]
  },
  {
   "cell_type": "code",
   "execution_count": 17,
   "metadata": {},
   "outputs": [],
   "source": [
    "res.to_csv(\"pca.csv\")"
   ]
  },
  {
   "cell_type": "code",
   "execution_count": 18,
   "metadata": {},
   "outputs": [],
   "source": [
    "## plotting pca"
   ]
  },
  {
   "cell_type": "code",
   "execution_count": 19,
   "metadata": {},
   "outputs": [],
   "source": [
    "import seaborn as sns\n",
    "import matplotlib.pyplot as plt"
   ]
  },
  {
   "cell_type": "code",
   "execution_count": 20,
   "metadata": {},
   "outputs": [
    {
     "data": {
      "image/png": "[encoded data removed]",
      "text/plain": [
       "<Figure size 432x288 with 1 Axes>"
      ]
     },
     "metadata": {
      "needs_background": "light"
     },
     "output_type": "display_data"
    }
   ],
   "source": [
    "sns.scatterplot(res['PCA1'], res['PCA2'],hue=res['PCA3'], s=100);"
   ]
  },
  {
   "cell_type": "code",
   "execution_count": 21,
   "metadata": {},
   "outputs": [
    {
     "data": {
      "image/png": "[encoded data removed]",
      "text/plain": [
       "<Figure size 432x288 with 1 Axes>"
      ]
     },
     "metadata": {
      "needs_background": "light"
     },
     "output_type": "display_data"
    }
   ],
   "source": [
    "sns.scatterplot(res['PCA2'], res['PCA3'],hue=res['PCA1'], s=100);"
   ]
  },
  {
   "cell_type": "code",
   "execution_count": 22,
   "metadata": {},
   "outputs": [
    {
     "data": {
      "image/png": "[encoded data removed]",
      "text/plain": [
       "<Figure size 432x288 with 1 Axes>"
      ]
     },
     "metadata": {
      "needs_background": "light"
     },
     "output_type": "display_data"
    }
   ],
   "source": [
    "sns.scatterplot(res['PCA3'], res['PCA1'],hue=res['PCA2'], s=100);"
   ]
  },
  {
   "cell_type": "code",
   "execution_count": null,
   "metadata": {},
   "outputs": [],
   "source": []
  }
 ],
 "metadata": {
  "kernelspec": {
   "display_name": "Python 3",
   "language": "python",
   "name": "python3"
  },
  "language_info": {
   "codemirror_mode": {
    "name": "ipython",
    "version": 3
   },
   "file_extension": ".py",
   "mimetype": "text/x-python",
   "name": "python",
   "nbconvert_exporter": "python",
   "pygments_lexer": "ipython3",
   "version": "3.7.4"
  }
 },
 "nbformat": 4,
 "nbformat_minor": 4
}
