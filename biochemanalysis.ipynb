{
 "cells": [
  {
   "cell_type": "code",
   "execution_count": 1,
   "metadata": {},
   "outputs": [],
   "source": [
    "import pandas as pd\n",
    "import numpy as np\n",
    "import warnings\n",
    "warnings.filterwarnings('ignore')"
   ]
  },
  {
   "cell_type": "code",
   "execution_count": 2,
   "metadata": {},
   "outputs": [],
   "source": [
    "df1 = pd.read_csv(\"sequencing_data_biochem1.csv\")\n",
    "df2 = pd.read_csv(\"sequencing_data_biochem2.csv\")"
   ]
  },
  {
   "cell_type": "code",
   "execution_count": 3,
   "metadata": {
    "scrolled": false
   },
   "outputs": [
    {
     "data": {
      "text/html": [
       "<div>\n",
       "<style scoped>\n",
       "    .dataframe tbody tr th:only-of-type {\n",
       "        vertical-align: middle;\n",
       "    }\n",
       "\n",
       "    .dataframe tbody tr th {\n",
       "        vertical-align: top;\n",
       "    }\n",
       "\n",
       "    .dataframe thead th {\n",
       "        text-align: right;\n",
       "    }\n",
       "</style>\n",
       "<table border=\"1\" class=\"dataframe\">\n",
       "  <thead>\n",
       "    <tr style=\"text-align: right;\">\n",
       "      <th></th>\n",
       "      <th>ref_1</th>\n",
       "      <th>A_1</th>\n",
       "      <th>C_1</th>\n",
       "      <th>G_1</th>\n",
       "      <th>T_1</th>\n",
       "      <th>call_1</th>\n",
       "      <th>ref_2</th>\n",
       "      <th>A_2</th>\n",
       "      <th>C_2</th>\n",
       "      <th>G_2</th>\n",
       "      <th>T_2</th>\n",
       "    </tr>\n",
       "  </thead>\n",
       "  <tbody>\n",
       "    <tr>\n",
       "      <th>0</th>\n",
       "      <td>C</td>\n",
       "      <td>0.122</td>\n",
       "      <td>0.428</td>\n",
       "      <td>0.039</td>\n",
       "      <td>0.127</td>\n",
       "      <td>C</td>\n",
       "      <td>T</td>\n",
       "      <td>0.022</td>\n",
       "      <td>0.006</td>\n",
       "      <td>0.060</td>\n",
       "      <td>0.358</td>\n",
       "    </tr>\n",
       "    <tr>\n",
       "      <th>1</th>\n",
       "      <td>T</td>\n",
       "      <td>0.155</td>\n",
       "      <td>0.138</td>\n",
       "      <td>0.102</td>\n",
       "      <td>0.680</td>\n",
       "      <td>T</td>\n",
       "      <td>C</td>\n",
       "      <td>0.186</td>\n",
       "      <td>0.390</td>\n",
       "      <td>0.107</td>\n",
       "      <td>0.004</td>\n",
       "    </tr>\n",
       "    <tr>\n",
       "      <th>2</th>\n",
       "      <td>T</td>\n",
       "      <td>0.071</td>\n",
       "      <td>0.053</td>\n",
       "      <td>0.186</td>\n",
       "      <td>0.587</td>\n",
       "      <td>T</td>\n",
       "      <td>A</td>\n",
       "      <td>0.503</td>\n",
       "      <td>0.137</td>\n",
       "      <td>0.019</td>\n",
       "      <td>0.013</td>\n",
       "    </tr>\n",
       "    <tr>\n",
       "      <th>3</th>\n",
       "      <td>C</td>\n",
       "      <td>0.101</td>\n",
       "      <td>0.330</td>\n",
       "      <td>0.021</td>\n",
       "      <td>0.088</td>\n",
       "      <td>C</td>\n",
       "      <td>T</td>\n",
       "      <td>0.167</td>\n",
       "      <td>0.193</td>\n",
       "      <td>0.149</td>\n",
       "      <td>0.457</td>\n",
       "    </tr>\n",
       "    <tr>\n",
       "      <th>4</th>\n",
       "      <td>A</td>\n",
       "      <td>0.363</td>\n",
       "      <td>0.189</td>\n",
       "      <td>0.114</td>\n",
       "      <td>0.004</td>\n",
       "      <td>A</td>\n",
       "      <td>A</td>\n",
       "      <td>0.470</td>\n",
       "      <td>0.018</td>\n",
       "      <td>0.006</td>\n",
       "      <td>0.004</td>\n",
       "    </tr>\n",
       "  </tbody>\n",
       "</table>\n",
       "</div>"
      ],
      "text/plain": [
       "  ref_1    A_1    C_1    G_1    T_1 call_1 ref_2    A_2    C_2    G_2    T_2\n",
       "0     C  0.122  0.428  0.039  0.127      C     T  0.022  0.006  0.060  0.358\n",
       "1     T  0.155  0.138  0.102  0.680      T     C  0.186  0.390  0.107  0.004\n",
       "2     T  0.071  0.053  0.186  0.587      T     A  0.503  0.137  0.019  0.013\n",
       "3     C  0.101  0.330  0.021  0.088      C     T  0.167  0.193  0.149  0.457\n",
       "4     A  0.363  0.189  0.114  0.004      A     A  0.470  0.018  0.006  0.004"
      ]
     },
     "execution_count": 3,
     "metadata": {},
     "output_type": "execute_result"
    }
   ],
   "source": [
    "df1.head()"
   ]
  },
  {
   "cell_type": "code",
   "execution_count": 4,
   "metadata": {},
   "outputs": [
    {
     "data": {
      "text/html": [
       "<div>\n",
       "<style scoped>\n",
       "    .dataframe tbody tr th:only-of-type {\n",
       "        vertical-align: middle;\n",
       "    }\n",
       "\n",
       "    .dataframe tbody tr th {\n",
       "        vertical-align: top;\n",
       "    }\n",
       "\n",
       "    .dataframe thead th {\n",
       "        text-align: right;\n",
       "    }\n",
       "</style>\n",
       "<table border=\"1\" class=\"dataframe\">\n",
       "  <thead>\n",
       "    <tr style=\"text-align: right;\">\n",
       "      <th></th>\n",
       "      <th>ref_1</th>\n",
       "      <th>A_1</th>\n",
       "      <th>C_1</th>\n",
       "      <th>G_1</th>\n",
       "      <th>T_1</th>\n",
       "      <th>call_1</th>\n",
       "      <th>ref_2</th>\n",
       "      <th>A_2</th>\n",
       "      <th>C_2</th>\n",
       "      <th>G_2</th>\n",
       "      <th>T_2</th>\n",
       "    </tr>\n",
       "  </thead>\n",
       "  <tbody>\n",
       "    <tr>\n",
       "      <th>0</th>\n",
       "      <td>G</td>\n",
       "      <td>0.168</td>\n",
       "      <td>0.232</td>\n",
       "      <td>0.028</td>\n",
       "      <td>0.071</td>\n",
       "      <td>C</td>\n",
       "      <td>T</td>\n",
       "      <td>0.122</td>\n",
       "      <td>0.004</td>\n",
       "      <td>0.244</td>\n",
       "      <td>0.037</td>\n",
       "    </tr>\n",
       "    <tr>\n",
       "      <th>1</th>\n",
       "      <td>A</td>\n",
       "      <td>0.099</td>\n",
       "      <td>0.064</td>\n",
       "      <td>0.004</td>\n",
       "      <td>0.285</td>\n",
       "      <td>T</td>\n",
       "      <td>A</td>\n",
       "      <td>0.027</td>\n",
       "      <td>0.086</td>\n",
       "      <td>0.100</td>\n",
       "      <td>0.155</td>\n",
       "    </tr>\n",
       "    <tr>\n",
       "      <th>2</th>\n",
       "      <td>C</td>\n",
       "      <td>0.321</td>\n",
       "      <td>0.148</td>\n",
       "      <td>0.070</td>\n",
       "      <td>0.196</td>\n",
       "      <td>A</td>\n",
       "      <td>C</td>\n",
       "      <td>0.060</td>\n",
       "      <td>0.084</td>\n",
       "      <td>0.152</td>\n",
       "      <td>0.049</td>\n",
       "    </tr>\n",
       "    <tr>\n",
       "      <th>3</th>\n",
       "      <td>G</td>\n",
       "      <td>0.170</td>\n",
       "      <td>0.360</td>\n",
       "      <td>0.146</td>\n",
       "      <td>0.088</td>\n",
       "      <td>C</td>\n",
       "      <td>A</td>\n",
       "      <td>0.165</td>\n",
       "      <td>0.111</td>\n",
       "      <td>0.004</td>\n",
       "      <td>0.335</td>\n",
       "    </tr>\n",
       "    <tr>\n",
       "      <th>4</th>\n",
       "      <td>T</td>\n",
       "      <td>0.129</td>\n",
       "      <td>0.111</td>\n",
       "      <td>0.302</td>\n",
       "      <td>0.056</td>\n",
       "      <td>G</td>\n",
       "      <td>A</td>\n",
       "      <td>0.122</td>\n",
       "      <td>0.184</td>\n",
       "      <td>0.061</td>\n",
       "      <td>0.201</td>\n",
       "    </tr>\n",
       "  </tbody>\n",
       "</table>\n",
       "</div>"
      ],
      "text/plain": [
       "  ref_1    A_1    C_1    G_1    T_1 call_1 ref_2    A_2    C_2    G_2    T_2\n",
       "0     G  0.168  0.232  0.028  0.071      C     T  0.122  0.004  0.244  0.037\n",
       "1     A  0.099  0.064  0.004  0.285      T     A  0.027  0.086  0.100  0.155\n",
       "2     C  0.321  0.148  0.070  0.196      A     C  0.060  0.084  0.152  0.049\n",
       "3     G  0.170  0.360  0.146  0.088      C     A  0.165  0.111  0.004  0.335\n",
       "4     T  0.129  0.111  0.302  0.056      G     A  0.122  0.184  0.061  0.201"
      ]
     },
     "execution_count": 4,
     "metadata": {},
     "output_type": "execute_result"
    }
   ],
   "source": [
    "df2.head()"
   ]
  },
  {
   "cell_type": "code",
   "execution_count": 5,
   "metadata": {},
   "outputs": [
    {
     "name": "stdout",
     "output_type": "stream",
     "text": [
      "<class 'pandas.core.frame.DataFrame'>\n",
      "RangeIndex: 1000 entries, 0 to 999\n",
      "Data columns (total 11 columns):\n",
      " #   Column  Non-Null Count  Dtype  \n",
      "---  ------  --------------  -----  \n",
      " 0   ref_1   1000 non-null   object \n",
      " 1   A_1     1000 non-null   float64\n",
      " 2   C_1     1000 non-null   float64\n",
      " 3   G_1     1000 non-null   float64\n",
      " 4   T_1     1000 non-null   float64\n",
      " 5   call_1  1000 non-null   object \n",
      " 6   ref_2   1000 non-null   object \n",
      " 7   A_2     1000 non-null   float64\n",
      " 8   C_2     1000 non-null   float64\n",
      " 9   G_2     1000 non-null   float64\n",
      " 10  T_2     1000 non-null   float64\n",
      "dtypes: float64(8), object(3)\n",
      "memory usage: 86.1+ KB\n",
      "details about the data set biochem1:  None\n",
      "<class 'pandas.core.frame.DataFrame'>\n",
      "RangeIndex: 1000 entries, 0 to 999\n",
      "Data columns (total 11 columns):\n",
      " #   Column  Non-Null Count  Dtype  \n",
      "---  ------  --------------  -----  \n",
      " 0   ref_1   1000 non-null   object \n",
      " 1   A_1     1000 non-null   float64\n",
      " 2   C_1     1000 non-null   float64\n",
      " 3   G_1     1000 non-null   float64\n",
      " 4   T_1     1000 non-null   float64\n",
      " 5   call_1  1000 non-null   object \n",
      " 6   ref_2   1000 non-null   object \n",
      " 7   A_2     1000 non-null   float64\n",
      " 8   C_2     1000 non-null   float64\n",
      " 9   G_2     1000 non-null   float64\n",
      " 10  T_2     1000 non-null   float64\n",
      "dtypes: float64(8), object(3)\n",
      "memory usage: 86.1+ KB\n",
      "details about the data set biochem2:  None\n"
     ]
    }
   ],
   "source": [
    "print(\"details about the data set biochem1: \",df1.info())\n",
    "print(\"details about the data set biochem2: \",df2.info())"
   ]
  },
  {
   "cell_type": "markdown",
   "metadata": {},
   "source": [
    "## ** function to call the data frame and each cycles **\n",
    "## ** the call function is to call the data and find the maximum value for each column, then make the call_2 column for format call_2 data in a represetable way**\n",
    "## ** here i also seen that rows with '0' call in call_1 as N so for in cycle 2, for mimic the same\n",
    "\n",
    "## ## the function call_imp is a improvement function, where i drop the 0 valued rows for improve the accuracy of the experiment. \n",
    "## !! the error_rate function is to calculate the error of the data frame to validate it with the given one"
   ]
  },
  {
   "cell_type": "code",
   "execution_count": 6,
   "metadata": {},
   "outputs": [],
   "source": [
    "def call(df,x):\n",
    "    x = str(x)\n",
    "    df['call_' + x] = df.loc[:,['A_' + x, 'T_' + x, 'C_' + x, 'G_' + x]].idxmax(axis = 1)\n",
    "    df['call_' + x] = df['call_' + x].str.replace(\"_\" + x,\"\")\n",
    "    df['call_' + x][df.loc[:,['A_' + x, 'T_' + x, 'C_' + x, 'G_' + x]].eq(0).all(1)] = \"N\"\n",
    "    \n",
    "def call_imp(df,x):\n",
    "    x = str(x)\n",
    "    df['call_' + x] = df.loc[:,['A_' + x, 'T_' + x, 'C_' + x, 'G_' + x]].idxmax(axis = 1)\n",
    "    df['call_' + x] = df['call_' + x].str.replace(\"_\" + x,\"\")\n",
    "    list_ = list(df['call_' + x][df.loc[:,['A_' + x, 'T_' + x, 'C_' + x, 'G_' + x]].eq(0).all(1)].index)\n",
    "    processed_df =  df.drop(list_)\n",
    "    \n",
    "    return error_rate(processed_df,x)\n",
    "    \n",
    "def error_rate(df,x):\n",
    "    x = str(x)\n",
    "    return (1 - (sum(df[\"call_\" + x] == df[\"ref_\" + x])/len(df)))* 100"
   ]
  },
  {
   "cell_type": "code",
   "execution_count": 7,
   "metadata": {
    "scrolled": true
   },
   "outputs": [],
   "source": [
    "call(df1,2)"
   ]
  },
  {
   "cell_type": "code",
   "execution_count": 8,
   "metadata": {},
   "outputs": [
    {
     "data": {
      "text/html": [
       "<div>\n",
       "<style scoped>\n",
       "    .dataframe tbody tr th:only-of-type {\n",
       "        vertical-align: middle;\n",
       "    }\n",
       "\n",
       "    .dataframe tbody tr th {\n",
       "        vertical-align: top;\n",
       "    }\n",
       "\n",
       "    .dataframe thead th {\n",
       "        text-align: right;\n",
       "    }\n",
       "</style>\n",
       "<table border=\"1\" class=\"dataframe\">\n",
       "  <thead>\n",
       "    <tr style=\"text-align: right;\">\n",
       "      <th></th>\n",
       "      <th>ref_1</th>\n",
       "      <th>A_1</th>\n",
       "      <th>C_1</th>\n",
       "      <th>G_1</th>\n",
       "      <th>T_1</th>\n",
       "      <th>call_1</th>\n",
       "      <th>ref_2</th>\n",
       "      <th>A_2</th>\n",
       "      <th>C_2</th>\n",
       "      <th>G_2</th>\n",
       "      <th>T_2</th>\n",
       "      <th>call_2</th>\n",
       "    </tr>\n",
       "  </thead>\n",
       "  <tbody>\n",
       "    <tr>\n",
       "      <th>0</th>\n",
       "      <td>C</td>\n",
       "      <td>0.122</td>\n",
       "      <td>0.428</td>\n",
       "      <td>0.039</td>\n",
       "      <td>0.127</td>\n",
       "      <td>C</td>\n",
       "      <td>T</td>\n",
       "      <td>0.022</td>\n",
       "      <td>0.006</td>\n",
       "      <td>0.060</td>\n",
       "      <td>0.358</td>\n",
       "      <td>T</td>\n",
       "    </tr>\n",
       "    <tr>\n",
       "      <th>1</th>\n",
       "      <td>T</td>\n",
       "      <td>0.155</td>\n",
       "      <td>0.138</td>\n",
       "      <td>0.102</td>\n",
       "      <td>0.680</td>\n",
       "      <td>T</td>\n",
       "      <td>C</td>\n",
       "      <td>0.186</td>\n",
       "      <td>0.390</td>\n",
       "      <td>0.107</td>\n",
       "      <td>0.004</td>\n",
       "      <td>C</td>\n",
       "    </tr>\n",
       "    <tr>\n",
       "      <th>2</th>\n",
       "      <td>T</td>\n",
       "      <td>0.071</td>\n",
       "      <td>0.053</td>\n",
       "      <td>0.186</td>\n",
       "      <td>0.587</td>\n",
       "      <td>T</td>\n",
       "      <td>A</td>\n",
       "      <td>0.503</td>\n",
       "      <td>0.137</td>\n",
       "      <td>0.019</td>\n",
       "      <td>0.013</td>\n",
       "      <td>A</td>\n",
       "    </tr>\n",
       "    <tr>\n",
       "      <th>3</th>\n",
       "      <td>C</td>\n",
       "      <td>0.101</td>\n",
       "      <td>0.330</td>\n",
       "      <td>0.021</td>\n",
       "      <td>0.088</td>\n",
       "      <td>C</td>\n",
       "      <td>T</td>\n",
       "      <td>0.167</td>\n",
       "      <td>0.193</td>\n",
       "      <td>0.149</td>\n",
       "      <td>0.457</td>\n",
       "      <td>T</td>\n",
       "    </tr>\n",
       "    <tr>\n",
       "      <th>4</th>\n",
       "      <td>A</td>\n",
       "      <td>0.363</td>\n",
       "      <td>0.189</td>\n",
       "      <td>0.114</td>\n",
       "      <td>0.004</td>\n",
       "      <td>A</td>\n",
       "      <td>A</td>\n",
       "      <td>0.470</td>\n",
       "      <td>0.018</td>\n",
       "      <td>0.006</td>\n",
       "      <td>0.004</td>\n",
       "      <td>A</td>\n",
       "    </tr>\n",
       "  </tbody>\n",
       "</table>\n",
       "</div>"
      ],
      "text/plain": [
       "  ref_1    A_1    C_1    G_1    T_1 call_1 ref_2    A_2    C_2    G_2    T_2  \\\n",
       "0     C  0.122  0.428  0.039  0.127      C     T  0.022  0.006  0.060  0.358   \n",
       "1     T  0.155  0.138  0.102  0.680      T     C  0.186  0.390  0.107  0.004   \n",
       "2     T  0.071  0.053  0.186  0.587      T     A  0.503  0.137  0.019  0.013   \n",
       "3     C  0.101  0.330  0.021  0.088      C     T  0.167  0.193  0.149  0.457   \n",
       "4     A  0.363  0.189  0.114  0.004      A     A  0.470  0.018  0.006  0.004   \n",
       "\n",
       "  call_2  \n",
       "0      T  \n",
       "1      C  \n",
       "2      A  \n",
       "3      T  \n",
       "4      A  "
      ]
     },
     "execution_count": 8,
     "metadata": {},
     "output_type": "execute_result"
    }
   ],
   "source": [
    "df1.head() ##call for the second cycle in the biochem1 shown in call_2"
   ]
  },
  {
   "cell_type": "code",
   "execution_count": 9,
   "metadata": {},
   "outputs": [
    {
     "data": {
      "text/plain": [
       "6.499999999999995"
      ]
     },
     "execution_count": 9,
     "metadata": {},
     "output_type": "execute_result"
    }
   ],
   "source": [
    "error_rate(df1,2) ## error rate before using the call_improve"
   ]
  },
  {
   "cell_type": "code",
   "execution_count": 10,
   "metadata": {},
   "outputs": [
    {
     "data": {
      "text/plain": [
       "3.9000000000000035"
      ]
     },
     "execution_count": 10,
     "metadata": {},
     "output_type": "execute_result"
    }
   ],
   "source": [
    "error_rate(df1,1) ## validate with given value to confirm the function woking"
   ]
  },
  {
   "cell_type": "code",
   "execution_count": 11,
   "metadata": {},
   "outputs": [
    {
     "data": {
      "text/plain": [
       "4.591836734693877"
      ]
     },
     "execution_count": 11,
     "metadata": {},
     "output_type": "execute_result"
    }
   ],
   "source": [
    "call_imp(df1,2)  ## error rate after using improve function seen the rate is increase"
   ]
  },
  {
   "cell_type": "code",
   "execution_count": 12,
   "metadata": {},
   "outputs": [],
   "source": [
    "df2 = pd.read_csv(\"sequencing_data_biochem2.csv\") # load the biochem2"
   ]
  },
  {
   "cell_type": "code",
   "execution_count": 13,
   "metadata": {},
   "outputs": [],
   "source": [
    "call(df2,1)"
   ]
  },
  {
   "cell_type": "code",
   "execution_count": 14,
   "metadata": {},
   "outputs": [],
   "source": [
    "call(df2,2)"
   ]
  },
  {
   "cell_type": "code",
   "execution_count": 15,
   "metadata": {},
   "outputs": [
    {
     "data": {
      "text/html": [
       "<div>\n",
       "<style scoped>\n",
       "    .dataframe tbody tr th:only-of-type {\n",
       "        vertical-align: middle;\n",
       "    }\n",
       "\n",
       "    .dataframe tbody tr th {\n",
       "        vertical-align: top;\n",
       "    }\n",
       "\n",
       "    .dataframe thead th {\n",
       "        text-align: right;\n",
       "    }\n",
       "</style>\n",
       "<table border=\"1\" class=\"dataframe\">\n",
       "  <thead>\n",
       "    <tr style=\"text-align: right;\">\n",
       "      <th></th>\n",
       "      <th>ref_1</th>\n",
       "      <th>A_1</th>\n",
       "      <th>C_1</th>\n",
       "      <th>G_1</th>\n",
       "      <th>T_1</th>\n",
       "      <th>call_1</th>\n",
       "      <th>ref_2</th>\n",
       "      <th>A_2</th>\n",
       "      <th>C_2</th>\n",
       "      <th>G_2</th>\n",
       "      <th>T_2</th>\n",
       "      <th>call_2</th>\n",
       "    </tr>\n",
       "  </thead>\n",
       "  <tbody>\n",
       "    <tr>\n",
       "      <th>0</th>\n",
       "      <td>G</td>\n",
       "      <td>0.168</td>\n",
       "      <td>0.232</td>\n",
       "      <td>0.028</td>\n",
       "      <td>0.071</td>\n",
       "      <td>C</td>\n",
       "      <td>T</td>\n",
       "      <td>0.122</td>\n",
       "      <td>0.004</td>\n",
       "      <td>0.244</td>\n",
       "      <td>0.037</td>\n",
       "      <td>G</td>\n",
       "    </tr>\n",
       "    <tr>\n",
       "      <th>1</th>\n",
       "      <td>A</td>\n",
       "      <td>0.099</td>\n",
       "      <td>0.064</td>\n",
       "      <td>0.004</td>\n",
       "      <td>0.285</td>\n",
       "      <td>T</td>\n",
       "      <td>A</td>\n",
       "      <td>0.027</td>\n",
       "      <td>0.086</td>\n",
       "      <td>0.100</td>\n",
       "      <td>0.155</td>\n",
       "      <td>T</td>\n",
       "    </tr>\n",
       "    <tr>\n",
       "      <th>2</th>\n",
       "      <td>C</td>\n",
       "      <td>0.321</td>\n",
       "      <td>0.148</td>\n",
       "      <td>0.070</td>\n",
       "      <td>0.196</td>\n",
       "      <td>A</td>\n",
       "      <td>C</td>\n",
       "      <td>0.060</td>\n",
       "      <td>0.084</td>\n",
       "      <td>0.152</td>\n",
       "      <td>0.049</td>\n",
       "      <td>G</td>\n",
       "    </tr>\n",
       "    <tr>\n",
       "      <th>3</th>\n",
       "      <td>G</td>\n",
       "      <td>0.170</td>\n",
       "      <td>0.360</td>\n",
       "      <td>0.146</td>\n",
       "      <td>0.088</td>\n",
       "      <td>C</td>\n",
       "      <td>A</td>\n",
       "      <td>0.165</td>\n",
       "      <td>0.111</td>\n",
       "      <td>0.004</td>\n",
       "      <td>0.335</td>\n",
       "      <td>T</td>\n",
       "    </tr>\n",
       "    <tr>\n",
       "      <th>4</th>\n",
       "      <td>T</td>\n",
       "      <td>0.129</td>\n",
       "      <td>0.111</td>\n",
       "      <td>0.302</td>\n",
       "      <td>0.056</td>\n",
       "      <td>G</td>\n",
       "      <td>A</td>\n",
       "      <td>0.122</td>\n",
       "      <td>0.184</td>\n",
       "      <td>0.061</td>\n",
       "      <td>0.201</td>\n",
       "      <td>T</td>\n",
       "    </tr>\n",
       "  </tbody>\n",
       "</table>\n",
       "</div>"
      ],
      "text/plain": [
       "  ref_1    A_1    C_1    G_1    T_1 call_1 ref_2    A_2    C_2    G_2    T_2  \\\n",
       "0     G  0.168  0.232  0.028  0.071      C     T  0.122  0.004  0.244  0.037   \n",
       "1     A  0.099  0.064  0.004  0.285      T     A  0.027  0.086  0.100  0.155   \n",
       "2     C  0.321  0.148  0.070  0.196      A     C  0.060  0.084  0.152  0.049   \n",
       "3     G  0.170  0.360  0.146  0.088      C     A  0.165  0.111  0.004  0.335   \n",
       "4     T  0.129  0.111  0.302  0.056      G     A  0.122  0.184  0.061  0.201   \n",
       "\n",
       "  call_2  \n",
       "0      G  \n",
       "1      T  \n",
       "2      G  \n",
       "3      T  \n",
       "4      T  "
      ]
     },
     "execution_count": 15,
     "metadata": {},
     "output_type": "execute_result"
    }
   ],
   "source": [
    "df2.head()"
   ]
  },
  {
   "cell_type": "markdown",
   "metadata": {},
   "source": [
    "# in the above output, i can see that the call is not related to ref in the both of the call. i can also infer that, say in the 1st row it should be G_1 in place of C_1. So, using this logic i will try to find out the, how many mispalce is happned. \n",
    "\n",
    "# all this work will be done below"
   ]
  },
  {
   "cell_type": "code",
   "execution_count": 16,
   "metadata": {},
   "outputs": [],
   "source": [
    "#call__1 = df2.call_1"
   ]
  },
  {
   "cell_type": "code",
   "execution_count": 17,
   "metadata": {},
   "outputs": [],
   "source": [
    "#call__1 = call__1.str.replace(\"_1\", \"\")"
   ]
  },
  {
   "cell_type": "code",
   "execution_count": 18,
   "metadata": {
    "scrolled": true
   },
   "outputs": [
    {
     "data": {
      "text/plain": [
       "C    261\n",
       "N      7\n",
       "A      2\n",
       "T      2\n",
       "G      2\n",
       "Name: call_1, dtype: int64"
      ]
     },
     "execution_count": 18,
     "metadata": {},
     "output_type": "execute_result"
    }
   ],
   "source": [
    "df2.call_1.loc[df2.ref_1 == \"G\"].value_counts() # this the no of C wher it should be G."
   ]
  },
  {
   "cell_type": "code",
   "execution_count": 19,
   "metadata": {},
   "outputs": [
    {
     "data": {
      "text/plain": [
       "G    233\n",
       "C      5\n",
       "N      4\n",
       "A      1\n",
       "T      1\n",
       "Name: call_1, dtype: int64"
      ]
     },
     "execution_count": 19,
     "metadata": {},
     "output_type": "execute_result"
    }
   ],
   "source": [
    "df2.call_1.loc[df2.ref_1 == \"T\"].value_counts() # same logic for G to T"
   ]
  },
  {
   "cell_type": "code",
   "execution_count": 20,
   "metadata": {},
   "outputs": [
    {
     "data": {
      "text/plain": [
       "A    206\n",
       "C      7\n",
       "G      4\n",
       "N      3\n",
       "T      2\n",
       "Name: call_1, dtype: int64"
      ]
     },
     "execution_count": 20,
     "metadata": {},
     "output_type": "execute_result"
    }
   ],
   "source": [
    "df2.call_1.loc[df2.ref_1 == \"C\"].value_counts() # A to C"
   ]
  },
  {
   "cell_type": "code",
   "execution_count": 21,
   "metadata": {},
   "outputs": [
    {
     "data": {
      "text/plain": [
       "T    245\n",
       "N      6\n",
       "A      5\n",
       "C      3\n",
       "G      1\n",
       "Name: call_1, dtype: int64"
      ]
     },
     "execution_count": 21,
     "metadata": {},
     "output_type": "execute_result"
    }
   ],
   "source": [
    "df2.call_1.loc[df2.ref_1 == \"A\"].value_counts() # T to A"
   ]
  },
  {
   "cell_type": "code",
   "execution_count": 22,
   "metadata": {},
   "outputs": [],
   "source": [
    "df2.rename(columns = {'A_1':'C_1', 'C_1' : 'G_1', 'G_1' : 'T_1', \"T_1\" : \"A_1\"}, inplace = True)  # now i change the column name for first cycle. "
   ]
  },
  {
   "cell_type": "code",
   "execution_count": 23,
   "metadata": {},
   "outputs": [
    {
     "data": {
      "text/html": [
       "<div>\n",
       "<style scoped>\n",
       "    .dataframe tbody tr th:only-of-type {\n",
       "        vertical-align: middle;\n",
       "    }\n",
       "\n",
       "    .dataframe tbody tr th {\n",
       "        vertical-align: top;\n",
       "    }\n",
       "\n",
       "    .dataframe thead th {\n",
       "        text-align: right;\n",
       "    }\n",
       "</style>\n",
       "<table border=\"1\" class=\"dataframe\">\n",
       "  <thead>\n",
       "    <tr style=\"text-align: right;\">\n",
       "      <th></th>\n",
       "      <th>ref_1</th>\n",
       "      <th>C_1</th>\n",
       "      <th>G_1</th>\n",
       "      <th>T_1</th>\n",
       "      <th>A_1</th>\n",
       "      <th>call_1</th>\n",
       "      <th>ref_2</th>\n",
       "      <th>A_2</th>\n",
       "      <th>C_2</th>\n",
       "      <th>G_2</th>\n",
       "      <th>T_2</th>\n",
       "      <th>call_2</th>\n",
       "    </tr>\n",
       "  </thead>\n",
       "  <tbody>\n",
       "    <tr>\n",
       "      <th>0</th>\n",
       "      <td>G</td>\n",
       "      <td>0.168</td>\n",
       "      <td>0.232</td>\n",
       "      <td>0.028</td>\n",
       "      <td>0.071</td>\n",
       "      <td>C</td>\n",
       "      <td>T</td>\n",
       "      <td>0.122</td>\n",
       "      <td>0.004</td>\n",
       "      <td>0.244</td>\n",
       "      <td>0.037</td>\n",
       "      <td>G</td>\n",
       "    </tr>\n",
       "    <tr>\n",
       "      <th>1</th>\n",
       "      <td>A</td>\n",
       "      <td>0.099</td>\n",
       "      <td>0.064</td>\n",
       "      <td>0.004</td>\n",
       "      <td>0.285</td>\n",
       "      <td>T</td>\n",
       "      <td>A</td>\n",
       "      <td>0.027</td>\n",
       "      <td>0.086</td>\n",
       "      <td>0.100</td>\n",
       "      <td>0.155</td>\n",
       "      <td>T</td>\n",
       "    </tr>\n",
       "    <tr>\n",
       "      <th>2</th>\n",
       "      <td>C</td>\n",
       "      <td>0.321</td>\n",
       "      <td>0.148</td>\n",
       "      <td>0.070</td>\n",
       "      <td>0.196</td>\n",
       "      <td>A</td>\n",
       "      <td>C</td>\n",
       "      <td>0.060</td>\n",
       "      <td>0.084</td>\n",
       "      <td>0.152</td>\n",
       "      <td>0.049</td>\n",
       "      <td>G</td>\n",
       "    </tr>\n",
       "    <tr>\n",
       "      <th>3</th>\n",
       "      <td>G</td>\n",
       "      <td>0.170</td>\n",
       "      <td>0.360</td>\n",
       "      <td>0.146</td>\n",
       "      <td>0.088</td>\n",
       "      <td>C</td>\n",
       "      <td>A</td>\n",
       "      <td>0.165</td>\n",
       "      <td>0.111</td>\n",
       "      <td>0.004</td>\n",
       "      <td>0.335</td>\n",
       "      <td>T</td>\n",
       "    </tr>\n",
       "    <tr>\n",
       "      <th>4</th>\n",
       "      <td>T</td>\n",
       "      <td>0.129</td>\n",
       "      <td>0.111</td>\n",
       "      <td>0.302</td>\n",
       "      <td>0.056</td>\n",
       "      <td>G</td>\n",
       "      <td>A</td>\n",
       "      <td>0.122</td>\n",
       "      <td>0.184</td>\n",
       "      <td>0.061</td>\n",
       "      <td>0.201</td>\n",
       "      <td>T</td>\n",
       "    </tr>\n",
       "  </tbody>\n",
       "</table>\n",
       "</div>"
      ],
      "text/plain": [
       "  ref_1    C_1    G_1    T_1    A_1 call_1 ref_2    A_2    C_2    G_2    T_2  \\\n",
       "0     G  0.168  0.232  0.028  0.071      C     T  0.122  0.004  0.244  0.037   \n",
       "1     A  0.099  0.064  0.004  0.285      T     A  0.027  0.086  0.100  0.155   \n",
       "2     C  0.321  0.148  0.070  0.196      A     C  0.060  0.084  0.152  0.049   \n",
       "3     G  0.170  0.360  0.146  0.088      C     A  0.165  0.111  0.004  0.335   \n",
       "4     T  0.129  0.111  0.302  0.056      G     A  0.122  0.184  0.061  0.201   \n",
       "\n",
       "  call_2  \n",
       "0      G  \n",
       "1      T  \n",
       "2      G  \n",
       "3      T  \n",
       "4      T  "
      ]
     },
     "execution_count": 23,
     "metadata": {},
     "output_type": "execute_result"
    }
   ],
   "source": [
    "df2.head()"
   ]
  },
  {
   "cell_type": "code",
   "execution_count": 24,
   "metadata": {},
   "outputs": [],
   "source": [
    "call(df2,1)"
   ]
  },
  {
   "cell_type": "code",
   "execution_count": 25,
   "metadata": {},
   "outputs": [
    {
     "data": {
      "text/html": [
       "<div>\n",
       "<style scoped>\n",
       "    .dataframe tbody tr th:only-of-type {\n",
       "        vertical-align: middle;\n",
       "    }\n",
       "\n",
       "    .dataframe tbody tr th {\n",
       "        vertical-align: top;\n",
       "    }\n",
       "\n",
       "    .dataframe thead th {\n",
       "        text-align: right;\n",
       "    }\n",
       "</style>\n",
       "<table border=\"1\" class=\"dataframe\">\n",
       "  <thead>\n",
       "    <tr style=\"text-align: right;\">\n",
       "      <th></th>\n",
       "      <th>ref_1</th>\n",
       "      <th>C_1</th>\n",
       "      <th>G_1</th>\n",
       "      <th>T_1</th>\n",
       "      <th>A_1</th>\n",
       "      <th>call_1</th>\n",
       "      <th>ref_2</th>\n",
       "      <th>A_2</th>\n",
       "      <th>C_2</th>\n",
       "      <th>G_2</th>\n",
       "      <th>T_2</th>\n",
       "      <th>call_2</th>\n",
       "    </tr>\n",
       "  </thead>\n",
       "  <tbody>\n",
       "    <tr>\n",
       "      <th>0</th>\n",
       "      <td>G</td>\n",
       "      <td>0.168</td>\n",
       "      <td>0.232</td>\n",
       "      <td>0.028</td>\n",
       "      <td>0.071</td>\n",
       "      <td>G</td>\n",
       "      <td>T</td>\n",
       "      <td>0.122</td>\n",
       "      <td>0.004</td>\n",
       "      <td>0.244</td>\n",
       "      <td>0.037</td>\n",
       "      <td>G</td>\n",
       "    </tr>\n",
       "    <tr>\n",
       "      <th>1</th>\n",
       "      <td>A</td>\n",
       "      <td>0.099</td>\n",
       "      <td>0.064</td>\n",
       "      <td>0.004</td>\n",
       "      <td>0.285</td>\n",
       "      <td>A</td>\n",
       "      <td>A</td>\n",
       "      <td>0.027</td>\n",
       "      <td>0.086</td>\n",
       "      <td>0.100</td>\n",
       "      <td>0.155</td>\n",
       "      <td>T</td>\n",
       "    </tr>\n",
       "    <tr>\n",
       "      <th>2</th>\n",
       "      <td>C</td>\n",
       "      <td>0.321</td>\n",
       "      <td>0.148</td>\n",
       "      <td>0.070</td>\n",
       "      <td>0.196</td>\n",
       "      <td>C</td>\n",
       "      <td>C</td>\n",
       "      <td>0.060</td>\n",
       "      <td>0.084</td>\n",
       "      <td>0.152</td>\n",
       "      <td>0.049</td>\n",
       "      <td>G</td>\n",
       "    </tr>\n",
       "    <tr>\n",
       "      <th>3</th>\n",
       "      <td>G</td>\n",
       "      <td>0.170</td>\n",
       "      <td>0.360</td>\n",
       "      <td>0.146</td>\n",
       "      <td>0.088</td>\n",
       "      <td>G</td>\n",
       "      <td>A</td>\n",
       "      <td>0.165</td>\n",
       "      <td>0.111</td>\n",
       "      <td>0.004</td>\n",
       "      <td>0.335</td>\n",
       "      <td>T</td>\n",
       "    </tr>\n",
       "    <tr>\n",
       "      <th>4</th>\n",
       "      <td>T</td>\n",
       "      <td>0.129</td>\n",
       "      <td>0.111</td>\n",
       "      <td>0.302</td>\n",
       "      <td>0.056</td>\n",
       "      <td>T</td>\n",
       "      <td>A</td>\n",
       "      <td>0.122</td>\n",
       "      <td>0.184</td>\n",
       "      <td>0.061</td>\n",
       "      <td>0.201</td>\n",
       "      <td>T</td>\n",
       "    </tr>\n",
       "  </tbody>\n",
       "</table>\n",
       "</div>"
      ],
      "text/plain": [
       "  ref_1    C_1    G_1    T_1    A_1 call_1 ref_2    A_2    C_2    G_2    T_2  \\\n",
       "0     G  0.168  0.232  0.028  0.071      G     T  0.122  0.004  0.244  0.037   \n",
       "1     A  0.099  0.064  0.004  0.285      A     A  0.027  0.086  0.100  0.155   \n",
       "2     C  0.321  0.148  0.070  0.196      C     C  0.060  0.084  0.152  0.049   \n",
       "3     G  0.170  0.360  0.146  0.088      G     A  0.165  0.111  0.004  0.335   \n",
       "4     T  0.129  0.111  0.302  0.056      T     A  0.122  0.184  0.061  0.201   \n",
       "\n",
       "  call_2  \n",
       "0      G  \n",
       "1      T  \n",
       "2      G  \n",
       "3      T  \n",
       "4      T  "
      ]
     },
     "execution_count": 25,
     "metadata": {},
     "output_type": "execute_result"
    }
   ],
   "source": [
    "df2.head() # after correcting the image capturing problem. I can see that in the 1st cycle its work properely. now I will do the same steps in the cycle 2.   "
   ]
  },
  {
   "cell_type": "code",
   "execution_count": 26,
   "metadata": {},
   "outputs": [
    {
     "data": {
      "text/plain": [
       "C    231\n",
       "N      4\n",
       "T      2\n",
       "G      1\n",
       "Name: call_2, dtype: int64"
      ]
     },
     "execution_count": 26,
     "metadata": {},
     "output_type": "execute_result"
    }
   ],
   "source": [
    "df2.call_2.loc[df2.ref_2 == \"G\"].value_counts() # verify the same mistake and found the capture proprocessing is not working."
   ]
  },
  {
   "cell_type": "code",
   "execution_count": 27,
   "metadata": {},
   "outputs": [
    {
     "data": {
      "text/plain": [
       "G    258\n",
       "N      5\n",
       "A      2\n",
       "T      1\n",
       "C      1\n",
       "Name: call_2, dtype: int64"
      ]
     },
     "execution_count": 27,
     "metadata": {},
     "output_type": "execute_result"
    }
   ],
   "source": [
    "df2.call_2.loc[df2.ref_2 == \"T\"].value_counts()"
   ]
  },
  {
   "cell_type": "code",
   "execution_count": 28,
   "metadata": {},
   "outputs": [
    {
     "data": {
      "text/plain": [
       "A    233\n",
       "T      6\n",
       "G      6\n",
       "N      4\n",
       "C      4\n",
       "Name: call_2, dtype: int64"
      ]
     },
     "execution_count": 28,
     "metadata": {},
     "output_type": "execute_result"
    }
   ],
   "source": [
    "df2.call_2.loc[df2.ref_2 == \"C\"].value_counts()"
   ]
  },
  {
   "cell_type": "code",
   "execution_count": 29,
   "metadata": {},
   "outputs": [
    {
     "data": {
      "text/plain": [
       "T    229\n",
       "N      7\n",
       "A      2\n",
       "G      2\n",
       "C      2\n",
       "Name: call_2, dtype: int64"
      ]
     },
     "execution_count": 29,
     "metadata": {},
     "output_type": "execute_result"
    }
   ],
   "source": [
    "df2.call_2.loc[df2.ref_2 == \"A\"].value_counts()"
   ]
  },
  {
   "cell_type": "code",
   "execution_count": 30,
   "metadata": {},
   "outputs": [],
   "source": [
    "df2.rename(columns = {'A_2':'C_2', 'C_2' : 'G_2', 'G_2' : 'T_2', \"T_2\" : \"A_2\"}, inplace = True) # now i change the column name for second cycle. "
   ]
  },
  {
   "cell_type": "code",
   "execution_count": 31,
   "metadata": {},
   "outputs": [
    {
     "data": {
      "text/html": [
       "<div>\n",
       "<style scoped>\n",
       "    .dataframe tbody tr th:only-of-type {\n",
       "        vertical-align: middle;\n",
       "    }\n",
       "\n",
       "    .dataframe tbody tr th {\n",
       "        vertical-align: top;\n",
       "    }\n",
       "\n",
       "    .dataframe thead th {\n",
       "        text-align: right;\n",
       "    }\n",
       "</style>\n",
       "<table border=\"1\" class=\"dataframe\">\n",
       "  <thead>\n",
       "    <tr style=\"text-align: right;\">\n",
       "      <th></th>\n",
       "      <th>ref_1</th>\n",
       "      <th>C_1</th>\n",
       "      <th>G_1</th>\n",
       "      <th>T_1</th>\n",
       "      <th>A_1</th>\n",
       "      <th>call_1</th>\n",
       "      <th>ref_2</th>\n",
       "      <th>C_2</th>\n",
       "      <th>G_2</th>\n",
       "      <th>T_2</th>\n",
       "      <th>A_2</th>\n",
       "      <th>call_2</th>\n",
       "    </tr>\n",
       "  </thead>\n",
       "  <tbody>\n",
       "    <tr>\n",
       "      <th>0</th>\n",
       "      <td>G</td>\n",
       "      <td>0.168</td>\n",
       "      <td>0.232</td>\n",
       "      <td>0.028</td>\n",
       "      <td>0.071</td>\n",
       "      <td>G</td>\n",
       "      <td>T</td>\n",
       "      <td>0.122</td>\n",
       "      <td>0.004</td>\n",
       "      <td>0.244</td>\n",
       "      <td>0.037</td>\n",
       "      <td>G</td>\n",
       "    </tr>\n",
       "    <tr>\n",
       "      <th>1</th>\n",
       "      <td>A</td>\n",
       "      <td>0.099</td>\n",
       "      <td>0.064</td>\n",
       "      <td>0.004</td>\n",
       "      <td>0.285</td>\n",
       "      <td>A</td>\n",
       "      <td>A</td>\n",
       "      <td>0.027</td>\n",
       "      <td>0.086</td>\n",
       "      <td>0.100</td>\n",
       "      <td>0.155</td>\n",
       "      <td>T</td>\n",
       "    </tr>\n",
       "    <tr>\n",
       "      <th>2</th>\n",
       "      <td>C</td>\n",
       "      <td>0.321</td>\n",
       "      <td>0.148</td>\n",
       "      <td>0.070</td>\n",
       "      <td>0.196</td>\n",
       "      <td>C</td>\n",
       "      <td>C</td>\n",
       "      <td>0.060</td>\n",
       "      <td>0.084</td>\n",
       "      <td>0.152</td>\n",
       "      <td>0.049</td>\n",
       "      <td>G</td>\n",
       "    </tr>\n",
       "    <tr>\n",
       "      <th>3</th>\n",
       "      <td>G</td>\n",
       "      <td>0.170</td>\n",
       "      <td>0.360</td>\n",
       "      <td>0.146</td>\n",
       "      <td>0.088</td>\n",
       "      <td>G</td>\n",
       "      <td>A</td>\n",
       "      <td>0.165</td>\n",
       "      <td>0.111</td>\n",
       "      <td>0.004</td>\n",
       "      <td>0.335</td>\n",
       "      <td>T</td>\n",
       "    </tr>\n",
       "    <tr>\n",
       "      <th>4</th>\n",
       "      <td>T</td>\n",
       "      <td>0.129</td>\n",
       "      <td>0.111</td>\n",
       "      <td>0.302</td>\n",
       "      <td>0.056</td>\n",
       "      <td>T</td>\n",
       "      <td>A</td>\n",
       "      <td>0.122</td>\n",
       "      <td>0.184</td>\n",
       "      <td>0.061</td>\n",
       "      <td>0.201</td>\n",
       "      <td>T</td>\n",
       "    </tr>\n",
       "  </tbody>\n",
       "</table>\n",
       "</div>"
      ],
      "text/plain": [
       "  ref_1    C_1    G_1    T_1    A_1 call_1 ref_2    C_2    G_2    T_2    A_2  \\\n",
       "0     G  0.168  0.232  0.028  0.071      G     T  0.122  0.004  0.244  0.037   \n",
       "1     A  0.099  0.064  0.004  0.285      A     A  0.027  0.086  0.100  0.155   \n",
       "2     C  0.321  0.148  0.070  0.196      C     C  0.060  0.084  0.152  0.049   \n",
       "3     G  0.170  0.360  0.146  0.088      G     A  0.165  0.111  0.004  0.335   \n",
       "4     T  0.129  0.111  0.302  0.056      T     A  0.122  0.184  0.061  0.201   \n",
       "\n",
       "  call_2  \n",
       "0      G  \n",
       "1      T  \n",
       "2      G  \n",
       "3      T  \n",
       "4      T  "
      ]
     },
     "execution_count": 31,
     "metadata": {},
     "output_type": "execute_result"
    }
   ],
   "source": [
    "df2.head()"
   ]
  },
  {
   "cell_type": "markdown",
   "metadata": {},
   "source": [
    "# in the above data frame it is seen that the misprogramming is fixed.\n",
    "# now I will move for the error_rate calculation ."
   ]
  },
  {
   "cell_type": "code",
   "execution_count": 32,
   "metadata": {},
   "outputs": [
    {
     "data": {
      "text/plain": [
       "5.500000000000005"
      ]
     },
     "execution_count": 32,
     "metadata": {},
     "output_type": "execute_result"
    }
   ],
   "source": [
    "error_rate(df2,1)"
   ]
  },
  {
   "cell_type": "code",
   "execution_count": 33,
   "metadata": {},
   "outputs": [
    {
     "data": {
      "text/plain": [
       "3.57142857142857"
      ]
     },
     "execution_count": 33,
     "metadata": {},
     "output_type": "execute_result"
    }
   ],
   "source": [
    "call_imp(df2,1) # error rate is decreased."
   ]
  },
  {
   "cell_type": "code",
   "execution_count": 34,
   "metadata": {},
   "outputs": [
    {
     "data": {
      "text/plain": [
       "99.2"
      ]
     },
     "execution_count": 34,
     "metadata": {},
     "output_type": "execute_result"
    }
   ],
   "source": [
    "error_rate(df2,2)"
   ]
  },
  {
   "cell_type": "code",
   "execution_count": 42,
   "metadata": {},
   "outputs": [
    {
     "data": {
      "text/plain": [
       "2.857142857142858"
      ]
     },
     "execution_count": 42,
     "metadata": {},
     "output_type": "execute_result"
    }
   ],
   "source": [
    "call_imp(df2,2) # error rate is decreased."
   ]
  },
  {
   "cell_type": "code",
   "execution_count": null,
   "metadata": {},
   "outputs": [],
   "source": [
    "#verify the both datasets with output "
   ]
  },
  {
   "cell_type": "code",
   "execution_count": 43,
   "metadata": {},
   "outputs": [
    {
     "data": {
      "text/html": [
       "<div>\n",
       "<style scoped>\n",
       "    .dataframe tbody tr th:only-of-type {\n",
       "        vertical-align: middle;\n",
       "    }\n",
       "\n",
       "    .dataframe tbody tr th {\n",
       "        vertical-align: top;\n",
       "    }\n",
       "\n",
       "    .dataframe thead th {\n",
       "        text-align: right;\n",
       "    }\n",
       "</style>\n",
       "<table border=\"1\" class=\"dataframe\">\n",
       "  <thead>\n",
       "    <tr style=\"text-align: right;\">\n",
       "      <th></th>\n",
       "      <th>ref_1</th>\n",
       "      <th>A_1</th>\n",
       "      <th>C_1</th>\n",
       "      <th>G_1</th>\n",
       "      <th>T_1</th>\n",
       "      <th>call_1</th>\n",
       "      <th>ref_2</th>\n",
       "      <th>A_2</th>\n",
       "      <th>C_2</th>\n",
       "      <th>G_2</th>\n",
       "      <th>T_2</th>\n",
       "      <th>call_2</th>\n",
       "    </tr>\n",
       "  </thead>\n",
       "  <tbody>\n",
       "    <tr>\n",
       "      <th>0</th>\n",
       "      <td>C</td>\n",
       "      <td>0.122</td>\n",
       "      <td>0.428</td>\n",
       "      <td>0.039</td>\n",
       "      <td>0.127</td>\n",
       "      <td>C</td>\n",
       "      <td>T</td>\n",
       "      <td>0.022</td>\n",
       "      <td>0.006</td>\n",
       "      <td>0.060</td>\n",
       "      <td>0.358</td>\n",
       "      <td>T</td>\n",
       "    </tr>\n",
       "    <tr>\n",
       "      <th>1</th>\n",
       "      <td>T</td>\n",
       "      <td>0.155</td>\n",
       "      <td>0.138</td>\n",
       "      <td>0.102</td>\n",
       "      <td>0.680</td>\n",
       "      <td>T</td>\n",
       "      <td>C</td>\n",
       "      <td>0.186</td>\n",
       "      <td>0.390</td>\n",
       "      <td>0.107</td>\n",
       "      <td>0.004</td>\n",
       "      <td>C</td>\n",
       "    </tr>\n",
       "    <tr>\n",
       "      <th>2</th>\n",
       "      <td>T</td>\n",
       "      <td>0.071</td>\n",
       "      <td>0.053</td>\n",
       "      <td>0.186</td>\n",
       "      <td>0.587</td>\n",
       "      <td>T</td>\n",
       "      <td>A</td>\n",
       "      <td>0.503</td>\n",
       "      <td>0.137</td>\n",
       "      <td>0.019</td>\n",
       "      <td>0.013</td>\n",
       "      <td>A</td>\n",
       "    </tr>\n",
       "    <tr>\n",
       "      <th>3</th>\n",
       "      <td>C</td>\n",
       "      <td>0.101</td>\n",
       "      <td>0.330</td>\n",
       "      <td>0.021</td>\n",
       "      <td>0.088</td>\n",
       "      <td>C</td>\n",
       "      <td>T</td>\n",
       "      <td>0.167</td>\n",
       "      <td>0.193</td>\n",
       "      <td>0.149</td>\n",
       "      <td>0.457</td>\n",
       "      <td>T</td>\n",
       "    </tr>\n",
       "    <tr>\n",
       "      <th>4</th>\n",
       "      <td>A</td>\n",
       "      <td>0.363</td>\n",
       "      <td>0.189</td>\n",
       "      <td>0.114</td>\n",
       "      <td>0.004</td>\n",
       "      <td>A</td>\n",
       "      <td>A</td>\n",
       "      <td>0.470</td>\n",
       "      <td>0.018</td>\n",
       "      <td>0.006</td>\n",
       "      <td>0.004</td>\n",
       "      <td>A</td>\n",
       "    </tr>\n",
       "  </tbody>\n",
       "</table>\n",
       "</div>"
      ],
      "text/plain": [
       "  ref_1    A_1    C_1    G_1    T_1 call_1 ref_2    A_2    C_2    G_2    T_2  \\\n",
       "0     C  0.122  0.428  0.039  0.127      C     T  0.022  0.006  0.060  0.358   \n",
       "1     T  0.155  0.138  0.102  0.680      T     C  0.186  0.390  0.107  0.004   \n",
       "2     T  0.071  0.053  0.186  0.587      T     A  0.503  0.137  0.019  0.013   \n",
       "3     C  0.101  0.330  0.021  0.088      C     T  0.167  0.193  0.149  0.457   \n",
       "4     A  0.363  0.189  0.114  0.004      A     A  0.470  0.018  0.006  0.004   \n",
       "\n",
       "  call_2  \n",
       "0      T  \n",
       "1      C  \n",
       "2      A  \n",
       "3      T  \n",
       "4      A  "
      ]
     },
     "execution_count": 43,
     "metadata": {},
     "output_type": "execute_result"
    }
   ],
   "source": [
    "df1.head()"
   ]
  },
  {
   "cell_type": "code",
   "execution_count": 44,
   "metadata": {},
   "outputs": [
    {
     "data": {
      "text/html": [
       "<div>\n",
       "<style scoped>\n",
       "    .dataframe tbody tr th:only-of-type {\n",
       "        vertical-align: middle;\n",
       "    }\n",
       "\n",
       "    .dataframe tbody tr th {\n",
       "        vertical-align: top;\n",
       "    }\n",
       "\n",
       "    .dataframe thead th {\n",
       "        text-align: right;\n",
       "    }\n",
       "</style>\n",
       "<table border=\"1\" class=\"dataframe\">\n",
       "  <thead>\n",
       "    <tr style=\"text-align: right;\">\n",
       "      <th></th>\n",
       "      <th>ref_1</th>\n",
       "      <th>C_1</th>\n",
       "      <th>G_1</th>\n",
       "      <th>T_1</th>\n",
       "      <th>A_1</th>\n",
       "      <th>call_1</th>\n",
       "      <th>ref_2</th>\n",
       "      <th>C_2</th>\n",
       "      <th>G_2</th>\n",
       "      <th>T_2</th>\n",
       "      <th>A_2</th>\n",
       "      <th>call_2</th>\n",
       "    </tr>\n",
       "  </thead>\n",
       "  <tbody>\n",
       "    <tr>\n",
       "      <th>0</th>\n",
       "      <td>G</td>\n",
       "      <td>0.168</td>\n",
       "      <td>0.232</td>\n",
       "      <td>0.028</td>\n",
       "      <td>0.071</td>\n",
       "      <td>G</td>\n",
       "      <td>T</td>\n",
       "      <td>0.122</td>\n",
       "      <td>0.004</td>\n",
       "      <td>0.244</td>\n",
       "      <td>0.037</td>\n",
       "      <td>T</td>\n",
       "    </tr>\n",
       "    <tr>\n",
       "      <th>1</th>\n",
       "      <td>A</td>\n",
       "      <td>0.099</td>\n",
       "      <td>0.064</td>\n",
       "      <td>0.004</td>\n",
       "      <td>0.285</td>\n",
       "      <td>A</td>\n",
       "      <td>A</td>\n",
       "      <td>0.027</td>\n",
       "      <td>0.086</td>\n",
       "      <td>0.100</td>\n",
       "      <td>0.155</td>\n",
       "      <td>A</td>\n",
       "    </tr>\n",
       "    <tr>\n",
       "      <th>2</th>\n",
       "      <td>C</td>\n",
       "      <td>0.321</td>\n",
       "      <td>0.148</td>\n",
       "      <td>0.070</td>\n",
       "      <td>0.196</td>\n",
       "      <td>C</td>\n",
       "      <td>C</td>\n",
       "      <td>0.060</td>\n",
       "      <td>0.084</td>\n",
       "      <td>0.152</td>\n",
       "      <td>0.049</td>\n",
       "      <td>T</td>\n",
       "    </tr>\n",
       "    <tr>\n",
       "      <th>3</th>\n",
       "      <td>G</td>\n",
       "      <td>0.170</td>\n",
       "      <td>0.360</td>\n",
       "      <td>0.146</td>\n",
       "      <td>0.088</td>\n",
       "      <td>G</td>\n",
       "      <td>A</td>\n",
       "      <td>0.165</td>\n",
       "      <td>0.111</td>\n",
       "      <td>0.004</td>\n",
       "      <td>0.335</td>\n",
       "      <td>A</td>\n",
       "    </tr>\n",
       "    <tr>\n",
       "      <th>4</th>\n",
       "      <td>T</td>\n",
       "      <td>0.129</td>\n",
       "      <td>0.111</td>\n",
       "      <td>0.302</td>\n",
       "      <td>0.056</td>\n",
       "      <td>T</td>\n",
       "      <td>A</td>\n",
       "      <td>0.122</td>\n",
       "      <td>0.184</td>\n",
       "      <td>0.061</td>\n",
       "      <td>0.201</td>\n",
       "      <td>A</td>\n",
       "    </tr>\n",
       "  </tbody>\n",
       "</table>\n",
       "</div>"
      ],
      "text/plain": [
       "  ref_1    C_1    G_1    T_1    A_1 call_1 ref_2    C_2    G_2    T_2    A_2  \\\n",
       "0     G  0.168  0.232  0.028  0.071      G     T  0.122  0.004  0.244  0.037   \n",
       "1     A  0.099  0.064  0.004  0.285      A     A  0.027  0.086  0.100  0.155   \n",
       "2     C  0.321  0.148  0.070  0.196      C     C  0.060  0.084  0.152  0.049   \n",
       "3     G  0.170  0.360  0.146  0.088      G     A  0.165  0.111  0.004  0.335   \n",
       "4     T  0.129  0.111  0.302  0.056      T     A  0.122  0.184  0.061  0.201   \n",
       "\n",
       "  call_2  \n",
       "0      T  \n",
       "1      A  \n",
       "2      T  \n",
       "3      A  \n",
       "4      A  "
      ]
     },
     "execution_count": 44,
     "metadata": {},
     "output_type": "execute_result"
    }
   ],
   "source": [
    "df2.head()"
   ]
  },
  {
   "cell_type": "markdown",
   "metadata": {},
   "source": [
    "# from this exercise i can infer that, the dye combination which they are using in the biochem1 cycle 1 is acceptable. they can use it for the other cycles, and if the image capturing mechanism is modified or corrected than they can use the previous dye combination to sequence the DNA."
   ]
  }
 ],
 "metadata": {
  "kernelspec": {
   "display_name": "Python 3",
   "language": "python",
   "name": "python3"
  },
  "language_info": {
   "codemirror_mode": {
    "name": "ipython",
    "version": 3
   },
   "file_extension": ".py",
   "mimetype": "text/x-python",
   "name": "python",
   "nbconvert_exporter": "python",
   "pygments_lexer": "ipython3",
   "version": "3.7.4"
  }
 },
 "nbformat": 4,
 "nbformat_minor": 2
}
